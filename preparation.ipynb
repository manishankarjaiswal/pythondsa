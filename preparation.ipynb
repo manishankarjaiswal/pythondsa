{
 "cells": [
  {
   "cell_type": "markdown",
   "metadata": {},
   "source": [
    "Factorial Number using recusion"
   ]
  },
  {
   "cell_type": "code",
   "execution_count": 10,
   "metadata": {},
   "outputs": [],
   "source": [
    "def factorial(n):\n",
    "    if n<=1:\n",
    "        return 1\n",
    "    return n*factorial(n-1)"
   ]
  },
  {
   "cell_type": "code",
   "execution_count": 12,
   "metadata": {},
   "outputs": [
    {
     "data": {
      "text/plain": [
       "120"
      ]
     },
     "execution_count": 12,
     "metadata": {},
     "output_type": "execute_result"
    }
   ],
   "source": [
    "factorial(5)"
   ]
  },
  {
   "cell_type": "markdown",
   "metadata": {},
   "source": [
    "Factorial Number using For loop"
   ]
  },
  {
   "cell_type": "code",
   "execution_count": 13,
   "metadata": {},
   "outputs": [],
   "source": [
    "def factorial(n):\n",
    "    f = 1\n",
    "    for i in range(1, n+1):\n",
    "        f = f*i\n",
    "    return f"
   ]
  },
  {
   "cell_type": "code",
   "execution_count": 14,
   "metadata": {},
   "outputs": [
    {
     "data": {
      "text/plain": [
       "120"
      ]
     },
     "execution_count": 14,
     "metadata": {},
     "output_type": "execute_result"
    }
   ],
   "source": [
    "factorial(5)"
   ]
  },
  {
   "cell_type": "code",
   "execution_count": 2,
   "metadata": {},
   "outputs": [
    {
     "name": "stdout",
     "output_type": "stream",
     "text": [
      "20 16 14 10\n"
     ]
    }
   ],
   "source": [
    "# First, Second, Third, Forth largest Number\n",
    "arr = [1, 14, 2, 16, 10, 20]\n",
    "first = arr[0]\n",
    "second = -99999999\n",
    "third = -999999999\n",
    "forth = -99999999\n",
    "\n",
    "for i in range(1, len(arr)):\n",
    "    if arr[i] > first:\n",
    "        forth = third\n",
    "        third = second\n",
    "        second = first\n",
    "        first = arr[i]\n",
    "    elif arr[i] > second:\n",
    "        forth = third\n",
    "        third = second\n",
    "        second = arr[i]\n",
    "    elif arr[i] > third:\n",
    "        forth = third\n",
    "        third = arr[i]\n",
    "    elif arr[i] > forth:\n",
    "        forth = arr[i]\n",
    "\n",
    "print(first, second, third, forth)"
   ]
  },
  {
   "cell_type": "code",
   "execution_count": 5,
   "metadata": {},
   "outputs": [
    {
     "data": {
      "text/plain": [
       "{'N'}"
      ]
     },
     "execution_count": 5,
     "metadata": {},
     "output_type": "execute_result"
    }
   ],
   "source": [
    "# Common letter between two strings\n",
    "def common_letters(s1, s2):\n",
    "    return set(s1).intersection(set(s2))\n",
    "\n",
    "common_letters(\"NAINA\", \"REENE\")"
   ]
  },
  {
   "cell_type": "code",
   "execution_count": 21,
   "metadata": {},
   "outputs": [
    {
     "name": "stdout",
     "output_type": "stream",
     "text": [
      "1 3\n"
     ]
    }
   ],
   "source": [
    "# Find Out Pairs with given sum in an array in python of time complexity O(n log n)\n",
    "def pair_sum(array, target):\n",
    "    array.sort()\n",
    "    l = 0\n",
    "    h = len(array)-1\n",
    "    while l<h:\n",
    "        if array[l]+array[h]>target:\n",
    "            h-=1\n",
    "        elif array[l]+array[h]<target:\n",
    "            l+=1\n",
    "        elif array[l]+array[h]==target:\n",
    "            print(array[l], array[h])\n",
    "            l+=1\n",
    "            h-=1\n",
    "    # return array\n",
    "\n",
    "arr = [1,2,3,7,5]\n",
    "pair_sum(arr, 4)"
   ]
  },
  {
   "cell_type": "code",
   "execution_count": 16,
   "metadata": {},
   "outputs": [
    {
     "data": {
      "text/plain": [
       "(1, 8)"
      ]
     },
     "execution_count": 16,
     "metadata": {},
     "output_type": "execute_result"
    }
   ],
   "source": [
    "#  minimum difference between two elements of list\n",
    "def find_min_diff(L):\n",
    "    L.sort()\n",
    "    diff = 99999999999999999\n",
    "    for i in range(len(L)-1):\n",
    "        if L[i+1]-L[i]<diff:\n",
    "            diff = L[i+1]-L[i]\n",
    "    return diff\n",
    "\n",
    "#  maximum difference between two elements of list\n",
    "def find_max_diff(L):\n",
    "    L.sort()\n",
    "    diff = -99999999999999999\n",
    "    for i in range(len(L)-1):\n",
    "        if L[i+1]-L[i]>diff:\n",
    "            diff = L[i+1]-L[i]\n",
    "    return diff\n",
    "\n",
    "find_min_diff(arr), find_max_diff(arr)\n"
   ]
  },
  {
   "cell_type": "code",
   "execution_count": 17,
   "metadata": {},
   "outputs": [],
   "source": [
    "# kth largestelement and smallest\n",
    "import heapq\n",
    "class Solution:\n",
    "    def kthSmallest(self,arr, l, r, k):\n",
    "        '''\n",
    "        arr : given array\n",
    "        l : starting index of the array i.e 0\n",
    "        r : ending index of the array i.e size-1\n",
    "        k : find kth smallest element and return using this function\n",
    "        '''\n",
    "        \n",
    "        heapq.heapify(arr)\n",
    "        for i in range(k-1):\n",
    "            heapq.heappop(arr)\n",
    "        return arr[0]\n",
    "    \n",
    "        # kth largestelement\n",
    "        # arr = [-x for x in arr]\n",
    "        # heapq.heapify(arr)\n",
    "        # for i in range(k - 1):\n",
    "        #     heapq.heappop(arr)\n",
    "        # return (-1)*arr[0]"
   ]
  },
  {
   "cell_type": "code",
   "execution_count": 26,
   "metadata": {},
   "outputs": [
    {
     "name": "stdout",
     "output_type": "stream",
     "text": [
      "[0, 1, 2, 3, 5, 6, 7, 8, 9]\n"
     ]
    }
   ],
   "source": [
    "# merge two sorted array\n",
    "arr1=[1,3,5,7]\n",
    "arr2 = [0,2,6,8,9]\n",
    "m = len(arr1)\n",
    "n = len(arr2)\n",
    "i, j = 0, 0\n",
    "temp = []\n",
    "while i<m and j<n:\n",
    "    if arr1[i]<=arr2[j]:\n",
    "        temp.append(arr1[i])\n",
    "        i+=1\n",
    "    else:\n",
    "        temp.append(arr2[j])\n",
    "        j+=1\n",
    "temp = temp+arr1[i:]+arr2[j:]\n",
    "print(temp)"
   ]
  },
  {
   "cell_type": "code",
   "execution_count": 1,
   "metadata": {},
   "outputs": [
    {
     "data": {
      "text/plain": [
       "5"
      ]
     },
     "execution_count": 1,
     "metadata": {},
     "output_type": "execute_result"
    }
   ],
   "source": [
    "# Equilibrium In Arrays\n",
    "def get_eqil(A, N):\n",
    "    temp = []\n",
    "    sum = 0\n",
    "    for i in A:\n",
    "        sum +=i\n",
    "        temp.append(sum)\n",
    "    for j in range(N):\n",
    "        if temp[i]-A[i] == temp[N-1]-temp[i]:\n",
    "            return A[i]\n",
    "    return temp\n",
    "\n",
    "L = [1,3,5,2,2]\n",
    "get_eqil(L, len(L))"
   ]
  },
  {
   "cell_type": "code",
   "execution_count": 33,
   "metadata": {},
   "outputs": [
    {
     "name": "stdout",
     "output_type": "stream",
     "text": [
      "Minimum Plathform Required: 3\n"
     ]
    }
   ],
   "source": [
    "# MINIMUM PLATFORMS\n",
    "N = 6\n",
    "arrival = [900, 940, 950, 1100, 1500, 1800]\n",
    "departure = [910, 1120, 1130, 1200, 1900, 2000]\n",
    "max_p = 1\n",
    "need = 1\n",
    "i, j = 1, 0\n",
    "while(i<len(arrival) and j < len(departure)):\n",
    "    if arrival[i]>departure[j]:\n",
    "        j+=1\n",
    "        need-=1\n",
    "    else:\n",
    "        i+=1\n",
    "        need+=1\n",
    "    max_p = max(max_p, need)\n",
    "print(\"Minimum Plathform Required:\", max_p)"
   ]
  },
  {
   "cell_type": "code",
   "execution_count": null,
   "metadata": {},
   "outputs": [],
   "source": []
  }
 ],
 "metadata": {
  "kernelspec": {
   "display_name": "Python 3",
   "language": "python",
   "name": "python3"
  },
  "language_info": {
   "codemirror_mode": {
    "name": "ipython",
    "version": 3
   },
   "file_extension": ".py",
   "mimetype": "text/x-python",
   "name": "python",
   "nbconvert_exporter": "python",
   "pygments_lexer": "ipython3",
   "version": "3.11.9"
  }
 },
 "nbformat": 4,
 "nbformat_minor": 2
}
