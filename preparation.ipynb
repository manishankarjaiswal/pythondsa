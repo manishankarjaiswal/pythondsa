{
 "cells": [
  {
   "cell_type": "markdown",
   "metadata": {},
   "source": [
    "Factorial Number using recusion"
   ]
  },
  {
   "cell_type": "code",
   "execution_count": 10,
   "metadata": {},
   "outputs": [],
   "source": [
    "def factorial(n):\n",
    "    if n<=1:\n",
    "        return 1\n",
    "    return n*factorial(n-1)"
   ]
  },
  {
   "cell_type": "code",
   "execution_count": 12,
   "metadata": {},
   "outputs": [
    {
     "data": {
      "text/plain": [
       "120"
      ]
     },
     "execution_count": 12,
     "metadata": {},
     "output_type": "execute_result"
    }
   ],
   "source": [
    "factorial(5)"
   ]
  },
  {
   "cell_type": "markdown",
   "metadata": {},
   "source": [
    "Factorial Number using For loop"
   ]
  },
  {
   "cell_type": "code",
   "execution_count": 13,
   "metadata": {},
   "outputs": [],
   "source": [
    "def factorial(n):\n",
    "    f = 1\n",
    "    for i in range(1, n+1):\n",
    "        f = f*i\n",
    "    return f"
   ]
  },
  {
   "cell_type": "code",
   "execution_count": 14,
   "metadata": {},
   "outputs": [
    {
     "data": {
      "text/plain": [
       "120"
      ]
     },
     "execution_count": 14,
     "metadata": {},
     "output_type": "execute_result"
    }
   ],
   "source": [
    "factorial(5)"
   ]
  },
  {
   "cell_type": "code",
   "execution_count": 2,
   "metadata": {},
   "outputs": [
    {
     "name": "stdout",
     "output_type": "stream",
     "text": [
      "20 16 14 10\n"
     ]
    }
   ],
   "source": [
    "# First, Second, Third, Forth largest Number\n",
    "arr = [1, 14, 2, 16, 10, 20]\n",
    "first = arr[0]\n",
    "second = -99999999\n",
    "third = -999999999\n",
    "forth = -99999999\n",
    "\n",
    "for i in range(1, len(arr)):\n",
    "    if arr[i] > first:\n",
    "        forth = third\n",
    "        third = second\n",
    "        second = first\n",
    "        first = arr[i]\n",
    "    elif arr[i] > second:\n",
    "        forth = third\n",
    "        third = second\n",
    "        second = arr[i]\n",
    "    elif arr[i] > third:\n",
    "        forth = third\n",
    "        third = arr[i]\n",
    "    elif arr[i] > forth:\n",
    "        forth = arr[i]\n",
    "\n",
    "print(first, second, third, forth)"
   ]
  },
  {
   "cell_type": "code",
   "execution_count": 5,
   "metadata": {},
   "outputs": [
    {
     "data": {
      "text/plain": [
       "{'N'}"
      ]
     },
     "execution_count": 5,
     "metadata": {},
     "output_type": "execute_result"
    }
   ],
   "source": [
    "# Common letter between two strings\n",
    "def common_letters(s1, s2):\n",
    "    return set(s1).intersection(set(s2))\n",
    "\n",
    "common_letters(\"NAINA\", \"REENE\")"
   ]
  },
  {
   "cell_type": "code",
   "execution_count": 21,
   "metadata": {},
   "outputs": [
    {
     "name": "stdout",
     "output_type": "stream",
     "text": [
      "1 3\n"
     ]
    }
   ],
   "source": [
    "# Find Out Pairs with given sum in an array in python of time complexity O(n log n)\n",
    "def pair_sum(array, target):\n",
    "    array.sort()\n",
    "    l = 0\n",
    "    h = len(array)-1\n",
    "    while l<h:\n",
    "        if array[l]+array[h]>target:\n",
    "            h-=1\n",
    "        elif array[l]+array[h]<target:\n",
    "            l+=1\n",
    "        elif array[l]+array[h]==target:\n",
    "            print(array[l], array[h])\n",
    "            l+=1\n",
    "            h-=1\n",
    "    # return array\n",
    "\n",
    "arr = [1,2,3,7,5]\n",
    "pair_sum(arr, 4)"
   ]
  },
  {
   "cell_type": "code",
   "execution_count": 16,
   "metadata": {},
   "outputs": [
    {
     "data": {
      "text/plain": [
       "(1, 8)"
      ]
     },
     "execution_count": 16,
     "metadata": {},
     "output_type": "execute_result"
    }
   ],
   "source": [
    "#  minimum difference between two elements of list\n",
    "def find_min_diff(L):\n",
    "    L.sort()\n",
    "    diff = 99999999999999999\n",
    "    for i in range(len(L)-1):\n",
    "        if L[i+1]-L[i]<diff:\n",
    "            diff = L[i+1]-L[i]\n",
    "    return diff\n",
    "\n",
    "#  maximum difference between two elements of list\n",
    "def find_max_diff(L):\n",
    "    L.sort()\n",
    "    diff = -99999999999999999\n",
    "    for i in range(len(L)-1):\n",
    "        if L[i+1]-L[i]>diff:\n",
    "            diff = L[i+1]-L[i]\n",
    "    return diff\n",
    "\n",
    "find_min_diff(arr), find_max_diff(arr)\n"
   ]
  },
  {
   "cell_type": "code",
   "execution_count": 17,
   "metadata": {},
   "outputs": [],
   "source": [
    "# kth largestelement and smallest\n",
    "import heapq\n",
    "class Solution:\n",
    "    def kthSmallest(self,arr, l, r, k):\n",
    "        '''\n",
    "        arr : given array\n",
    "        l : starting index of the array i.e 0\n",
    "        r : ending index of the array i.e size-1\n",
    "        k : find kth smallest element and return using this function\n",
    "        '''\n",
    "        \n",
    "        heapq.heapify(arr)\n",
    "        for i in range(k-1):\n",
    "            heapq.heappop(arr)\n",
    "        return arr[0]\n",
    "    \n",
    "        # kth largestelement\n",
    "        # arr = [-x for x in arr]\n",
    "        # heapq.heapify(arr)\n",
    "        # for i in range(k - 1):\n",
    "        #     heapq.heappop(arr)\n",
    "        # return (-1)*arr[0]"
   ]
  },
  {
   "cell_type": "code",
   "execution_count": 26,
   "metadata": {},
   "outputs": [
    {
     "name": "stdout",
     "output_type": "stream",
     "text": [
      "[0, 1, 2, 3, 5, 6, 7, 8, 9]\n"
     ]
    }
   ],
   "source": [
    "# merge two sorted array\n",
    "arr1=[1,3,5,7]\n",
    "arr2 = [0,2,6,8,9]\n",
    "m = len(arr1)\n",
    "n = len(arr2)\n",
    "i, j = 0, 0\n",
    "temp = []\n",
    "while i<m and j<n:\n",
    "    if arr1[i]<=arr2[j]:\n",
    "        temp.append(arr1[i])\n",
    "        i+=1\n",
    "    else:\n",
    "        temp.append(arr2[j])\n",
    "        j+=1\n",
    "temp = temp+arr1[i:]+arr2[j:]\n",
    "print(temp)"
   ]
  },
  {
   "cell_type": "code",
   "execution_count": 1,
   "metadata": {},
   "outputs": [
    {
     "name": "stdout",
     "output_type": "stream",
     "text": [
      "[1, 4, 9, 11, 13]\n"
     ]
    },
    {
     "data": {
      "text/plain": [
       "5"
      ]
     },
     "execution_count": 1,
     "metadata": {},
     "output_type": "execute_result"
    }
   ],
   "source": [
    "# Equilibrium In Arrays\n",
    "def get_eqil(A, N):\n",
    "    temp = []\n",
    "    sum = 0\n",
    "    for i in A:\n",
    "        sum +=i\n",
    "        temp.append(sum)\n",
    "    print(temp)\n",
    "    for j in range(N):\n",
    "        if temp[i]-A[i] == temp[N-1]-temp[i]:\n",
    "            return A[i]\n",
    "    return temp\n",
    "\n",
    "L = [1,3,5,2,2]\n",
    "get_eqil(L, len(L))"
   ]
  },
  {
   "cell_type": "code",
   "execution_count": 62,
   "metadata": {},
   "outputs": [
    {
     "name": "stdout",
     "output_type": "stream",
     "text": [
      "Minimum Plathform Required: 3\n"
     ]
    }
   ],
   "source": [
    "# MINIMUM PLATFORMS\n",
    "# N = 6\n",
    "arrival = [900, 940, 950, 1100, 1500, 1800]\n",
    "departure = [910, 1120, 1130, 1200, 1900, 2000]\n",
    "max_p = 1\n",
    "need = 1\n",
    "i, j = 1, 0\n",
    "while(i<len(arrival) and j < len(departure)):\n",
    "    if arrival[i]>departure[j]:\n",
    "        j+=1\n",
    "        need-=1\n",
    "    else:\n",
    "        i+=1\n",
    "        need+=1\n",
    "    max_p = max(max_p, need)\n",
    "print(\"Minimum Plathform Required:\", max_p)"
   ]
  },
  {
   "cell_type": "code",
   "execution_count": 26,
   "metadata": {},
   "outputs": [
    {
     "name": "stdout",
     "output_type": "stream",
     "text": [
      "1 2 7\n",
      "1 3 6\n"
     ]
    }
   ],
   "source": [
    "# Triplet Sum In An Array\n",
    "myarr = [1, 2, 4, 3, 6, 7]\n",
    "n = len(myarr)\n",
    "target = 10\n",
    "\n",
    "myarr.sort()\n",
    "for i in range(n):\n",
    "    l = i+1\n",
    "    k = n-1\n",
    "    while(l<k):\n",
    "        sum = myarr[i]+myarr[l]+myarr[k]\n",
    "        if sum<target:\n",
    "            l+=1\n",
    "        elif sum>target:\n",
    "            k-=1\n",
    "        elif sum == target:\n",
    "            print(myarr[i], myarr[l], myarr[k])\n",
    "            l+=1\n",
    "            k-=1"
   ]
  },
  {
   "cell_type": "code",
   "execution_count": 32,
   "metadata": {},
   "outputs": [
    {
     "name": "stdout",
     "output_type": "stream",
     "text": [
      "[20, 80]\n"
     ]
    }
   ],
   "source": [
    "# Find common element in tree sorted list\n",
    "arr_1 = [1, 5, 10, 20, 20, 40, 80]\n",
    "arr_2 = [6, 7, 20, 20, 80, 100]\n",
    "arr_3 = [3, 4, 15, 20, 20, 30, 70, 80, 120]\n",
    "m, n, o = len(arr_1), len(arr_2), len(arr_3)\n",
    "result = []\n",
    "i, j, k = 0, 0, 0\n",
    "last = None\n",
    "while i<m and j<n and k<o:\n",
    "    if arr_1[i]==arr_2[j] and arr_2[j]==arr_3[k]:\n",
    "        if last is not arr_1[i]:\n",
    "            result.append(arr_1[i])\n",
    "            last = arr_1[i]\n",
    "        i+=1\n",
    "        j+=1\n",
    "        k+=1\n",
    "    elif arr_1[i]<arr_2[j]:\n",
    "        i+=1\n",
    "    elif arr_2[j]<arr_3[k]:\n",
    "        j+=1\n",
    "    else:\n",
    "        k+=1 \n",
    "print(result)"
   ]
  },
  {
   "cell_type": "code",
   "execution_count": 4,
   "metadata": {},
   "outputs": [
    {
     "name": "stdout",
     "output_type": "stream",
     "text": [
      "7\n"
     ]
    }
   ],
   "source": [
    "# Longest Consecutive Subsequence\n",
    "l1 = [2,6,1,9,4,5,3,10,11,12,13,14,15,17]\n",
    "s = set(l1)\n",
    "\n",
    "ans = 0\n",
    "for i in l1:\n",
    "    if i-1 not in s:\n",
    "        j = i\n",
    "        while(j in s):\n",
    "            j+=1\n",
    "        ans = max(ans, j-i)\n",
    "print(ans)"
   ]
  },
  {
   "cell_type": "code",
   "execution_count": 1,
   "metadata": {},
   "outputs": [
    {
     "name": "stdout",
     "output_type": "stream",
     "text": [
      "OrderedDict([(1, 1)])\n",
      "OrderedDict([(1, 1), (2, 2)])\n",
      "OrderedDict([(2, 2), (1, 1)])\n",
      "OrderedDict([(1, 1), (3, 3)])\n",
      "OrderedDict([(1, 1), (3, 3)])\n",
      "OrderedDict([(3, 3), (4, 4)])\n",
      "OrderedDict([(3, 3), (4, 4)])\n",
      "OrderedDict([(4, 4), (3, 3)])\n",
      "OrderedDict([(3, 3), (4, 4)])\n"
     ]
    }
   ],
   "source": [
    "# LRU Cache Implementation\n",
    "from collections import OrderedDict\n",
    "\n",
    "class LRUCache:\n",
    "\n",
    "\t# initialising capacity\n",
    "\tdef __init__(self, capacity: int):\n",
    "\t\tself.cache = OrderedDict()\n",
    "\t\tself.capacity = capacity\n",
    "\n",
    "\t# we return the value of the key\n",
    "\t# that is queried in O(1) and return -1 if we\n",
    "\t# don't find the key in out dict / cache.\n",
    "\t# And also move the key to the end\n",
    "\t# to show that it was recently used.\n",
    "\tdef get(self, key: int) -> int:\n",
    "\t\tif key not in self.cache:\n",
    "\t\t\treturn -1\n",
    "\t\telse:\n",
    "\t\t\tself.cache.move_to_end(key)\n",
    "\t\t\treturn self.cache[key]\n",
    "\n",
    "\t# first, we add / update the key by conventional methods.\n",
    "\t# And also move the key to the end to show that it was recently used.\n",
    "\t# But here we will also check whether the length of our\n",
    "\t# ordered dictionary has exceeded our capacity,\n",
    "\t# If so we remove the first key (least recently used)\n",
    "\tdef put(self, key: int, value: int) -> None:\n",
    "\t\tself.cache[key] = value\n",
    "\t\tself.cache.move_to_end(key)\n",
    "\t\tif len(self.cache) > self.capacity:\n",
    "\t\t\tself.cache.popitem(last = False)\n",
    "\n",
    "\n",
    "# RUNNER\n",
    "# initializing our cache with the capacity of 2\n",
    "cache = LRUCache(2) \n",
    "\n",
    "\n",
    "cache.put(1, 1)\n",
    "print(cache.cache)\n",
    "cache.put(2, 2)\n",
    "print(cache.cache)\n",
    "cache.get(1)\n",
    "print(cache.cache)\n",
    "cache.put(3, 3)\n",
    "print(cache.cache)\n",
    "cache.get(2)\n",
    "print(cache.cache)\n",
    "cache.put(4, 4)\n",
    "print(cache.cache)\n",
    "cache.get(1)\n",
    "print(cache.cache)\n",
    "cache.get(3)\n",
    "print(cache.cache)\n",
    "cache.get(4)\n",
    "print(cache.cache)\n",
    "\n",
    "#This code was contributed by Sachin Negi\n"
   ]
  },
  {
   "cell_type": "markdown",
   "metadata": {},
   "source": [
    "1. Longest Sub array with sum == 0\n",
    "2. private function\n",
    "3. selfjoin\n",
    "4. mysql vs sqlserver\n",
    "5. indexing\n",
    "6. array vs stack\n",
    "7. "
   ]
  },
  {
   "cell_type": "code",
   "execution_count": 1,
   "metadata": {},
   "outputs": [
    {
     "name": "stdout",
     "output_type": "stream",
     "text": [
      "Hello, John! This is a private message.\n"
     ]
    }
   ],
   "source": [
    "class MyClass:\n",
    "    def __init__(self, name):\n",
    "        self.name = name\n",
    "\n",
    "    # Private method\n",
    "    def __private_method(self):\n",
    "        return f\"Hello, {self.name}! This is a private message.\"\n",
    "\n",
    "    # Public method\n",
    "    def public_method(self):\n",
    "        # Calling the private method within the public method\n",
    "        return self.__private_method()\n",
    "\n",
    "# Create an object of MyClass\n",
    "obj = MyClass(\"John\")\n",
    "\n",
    "# Calling the public method\n",
    "print(obj.public_method())  # This will work and call the private method\n",
    "\n",
    "# Trying to call the private method directly will raise an AttributeError\n",
    "# print(obj.__private_method())  # Uncommenting this will throw an error\n"
   ]
  },
  {
   "cell_type": "code",
   "execution_count": 5,
   "metadata": {},
   "outputs": [
    {
     "name": "stdout",
     "output_type": "stream",
     "text": [
      "5\n"
     ]
    }
   ],
   "source": [
    "# Function to return the length of the largest subarray\n",
    "# with sum 0\n",
    "def max_len(arr):\n",
    "  \n",
    "    # Map to store the previous sums\n",
    "    presum = {}\n",
    "\n",
    "    sum = 0\n",
    "    max_len = 0\n",
    "\n",
    "    # Traverse through the given array\n",
    "    for i in range(len(arr)):\n",
    "      \n",
    "        # Add current element to sum\n",
    "        sum += arr[i]\n",
    "\n",
    "        # If the sum is 0, update max_len\n",
    "        if sum == 0:\n",
    "            max_len = i + 1\n",
    "\n",
    "        # Check if this sum is seen before\n",
    "        if sum in presum:\n",
    "            # If this sum is seen before, update max_len\n",
    "            max_len = max(max_len, i - presum[sum])\n",
    "        else:\n",
    "          \n",
    "            # If this sum is not seen before, add it to the map\n",
    "            presum[sum] = i\n",
    "\n",
    "    return max_len\n",
    "\n",
    "arr = [15, -2, 2, -8, 1, 7, 10, 23]\n",
    "print(max_len(arr))\n"
   ]
  },
  {
   "cell_type": "code",
   "execution_count": 5,
   "metadata": {},
   "outputs": [
    {
     "name": "stdout",
     "output_type": "stream",
     "text": [
      "[5, 4, 3, 2, 1]\n"
     ]
    }
   ],
   "source": [
    "# Reverse a list without using slicing, for loop and any other in built function\n",
    "def reverse_list(lst):\n",
    "    # Base case: If the list is empty or has one element, return it\n",
    "    if len(lst) == 0:\n",
    "        return []\n",
    "    elif len(lst) == 1:\n",
    "        return lst\n",
    "    else:\n",
    "        # Recursive case: Reverse the rest of the list and append the first element at the end\n",
    "        return reverse_list(lst[1:]) + [lst[0]]\n",
    "\n",
    "# Example usage\n",
    "input_list = [1, 2, 3, 4, 5]\n",
    "reversed_list = reverse_list(input_list)\n",
    "print(reversed_list)  # Output: [5, 4, 3, 2, 1]\n"
   ]
  },
  {
   "cell_type": "code",
   "execution_count": 21,
   "metadata": {},
   "outputs": [
    {
     "name": "stdout",
     "output_type": "stream",
     "text": [
      "[[1, 2, 3, 20, 2], [4, 8, 1, 1, 15], [11, 2, 4], [40], [1, 2, 1, 3, 2], [48]]\n"
     ]
    }
   ],
   "source": [
    "def regroup_chapters(chapters):\n",
    "    # Flatten the sections into one list\n",
    "    sections = [section for chapter in chapters for section in chapter]\n",
    "    \n",
    "    # Create a list to store the new grouped chapters\n",
    "    new_chapters = []\n",
    "    \n",
    "    current_chapter = []\n",
    "    current_sum = 0\n",
    "    \n",
    "    # Iterate through each section\n",
    "    for section in sections:\n",
    "        if current_sum + section > 30:\n",
    "            # If adding this section exceeds the limit, start a new chapter\n",
    "            new_chapters.append(current_chapter)\n",
    "            current_chapter = [section]\n",
    "            current_sum = section\n",
    "        else:\n",
    "            # Otherwise, add the section to the current chapter\n",
    "            current_chapter.append(section)\n",
    "            current_sum += section\n",
    "    \n",
    "    # Add the last chapter if it's non-empty\n",
    "    if current_chapter:\n",
    "        new_chapters.append(current_chapter)\n",
    "    \n",
    "    return new_chapters\n",
    "\n",
    "# Example usage\n",
    "input_chapters = [[1,2,3], [20], [2,4,8], [1,1], [15], [11,2,4], [40], [1,2], [1,3,2], [48]]\n",
    "output = regroup_chapters(input_chapters)\n",
    "print(output)\n"
   ]
  },
  {
   "cell_type": "code",
   "execution_count": 2,
   "metadata": {},
   "outputs": [
    {
     "name": "stdout",
     "output_type": "stream",
     "text": [
      "[0, 1, 3]\n",
      "[[2, 4, 8], [15], [11, 2, 4], [40], [1, 2], [1, 3, 2], [48]]\n",
      "[0, 1]\n",
      "[[11, 2, 4], [40], [1, 2], [1, 3, 2], [48]]\n",
      "[0, 2, 3]\n",
      "[[40], [48]]\n",
      "[]\n",
      "[]\n"
     ]
    },
    {
     "data": {
      "text/plain": [
       "[[1, 2, 3, 20, 1, 1], [2, 4, 8, 15], [11, 2, 4, 1, 2, 1, 3, 2], [40], [48]]"
      ]
     },
     "execution_count": 2,
     "metadata": {},
     "output_type": "execute_result"
    }
   ],
   "source": [
    "book = [[1,2,3], [20], [2,4,8], [1,1], [15], [11,2,4], [40], [1,2], [1,3,2], [48]]\n",
    "\n",
    "def regroup_book(book):\n",
    "    book_op = []\n",
    "    while book != []:\n",
    "        count = 0\n",
    "        delete_index = []\n",
    "        chapter = []\n",
    "        for ind in range(len(book)):\n",
    "            extra_count = sum(book[ind])\n",
    "            if count + extra_count <31:\n",
    "                count += extra_count\n",
    "                delete_index.append(ind)\n",
    "                chapter.extend(book[ind])\n",
    "        print(delete_index)\n",
    "        if delete_index:\n",
    "            book_op.append(chapter)\n",
    "            for ind in delete_index[::-1]:\n",
    "                del book[ind]\n",
    "        else:\n",
    "            book_op.extend(book)\n",
    "            book =[]\n",
    "        print(book)\n",
    "    return book_op\n",
    "\n",
    "regroup_book(book)"
   ]
  },
  {
   "cell_type": "code",
   "execution_count": 21,
   "metadata": {},
   "outputs": [
    {
     "ename": "TypeError",
     "evalue": "'int' object is not callable",
     "output_type": "error",
     "traceback": [
      "\u001b[0;31m---------------------------------------------------------------------------\u001b[0m",
      "\u001b[0;31mTypeError\u001b[0m                                 Traceback (most recent call last)",
      "Cell \u001b[0;32mIn[21], line 31\u001b[0m\n\u001b[1;32m     29\u001b[0m book \u001b[38;5;241m=\u001b[39m [[\u001b[38;5;241m1\u001b[39m, \u001b[38;5;241m2\u001b[39m, \u001b[38;5;241m3\u001b[39m], [\u001b[38;5;241m20\u001b[39m], [\u001b[38;5;241m2\u001b[39m, \u001b[38;5;241m4\u001b[39m, \u001b[38;5;241m8\u001b[39m], [\u001b[38;5;241m1\u001b[39m, \u001b[38;5;241m1\u001b[39m], [\u001b[38;5;241m15\u001b[39m], [\u001b[38;5;241m11\u001b[39m, \u001b[38;5;241m2\u001b[39m, \u001b[38;5;241m4\u001b[39m], [\u001b[38;5;241m40\u001b[39m], [\u001b[38;5;241m1\u001b[39m, \u001b[38;5;241m2\u001b[39m], [\u001b[38;5;241m1\u001b[39m, \u001b[38;5;241m3\u001b[39m, \u001b[38;5;241m2\u001b[39m], [\u001b[38;5;241m48\u001b[39m]]\n\u001b[1;32m     30\u001b[0m max_cap \u001b[38;5;241m=\u001b[39m \u001b[38;5;241m50\u001b[39m\n\u001b[0;32m---> 31\u001b[0m \u001b[38;5;28mprint\u001b[39m(\u001b[43mregroup_book\u001b[49m\u001b[43m(\u001b[49m\u001b[43mbook\u001b[49m\u001b[43m,\u001b[49m\u001b[43m \u001b[49m\u001b[43mmax_cap\u001b[49m\u001b[43m)\u001b[49m)\n",
      "Cell \u001b[0;32mIn[21], line 11\u001b[0m, in \u001b[0;36mregroup_book\u001b[0;34m(book, max_cap)\u001b[0m\n\u001b[1;32m      8\u001b[0m new_remaining_book \u001b[38;5;241m=\u001b[39m [] \u001b[38;5;66;03m# Stores chapters that couldn't be added to the current chapter\u001b[39;00m\n\u001b[1;32m     10\u001b[0m \u001b[38;5;28;01mfor\u001b[39;00m ind \u001b[38;5;129;01min\u001b[39;00m \u001b[38;5;28mrange\u001b[39m(\u001b[38;5;28mlen\u001b[39m(remaining_book)):\n\u001b[0;32m---> 11\u001b[0m     extra_count \u001b[38;5;241m=\u001b[39m \u001b[38;5;28;43msum\u001b[39;49m\u001b[43m(\u001b[49m\u001b[43mremaining_book\u001b[49m\u001b[43m[\u001b[49m\u001b[43mind\u001b[49m\u001b[43m]\u001b[49m\u001b[43m)\u001b[49m \u001b[38;5;66;03m# Calculates the total questions in the current chapter\u001b[39;00m\n\u001b[1;32m     12\u001b[0m     \u001b[38;5;28;01mif\u001b[39;00m count \u001b[38;5;241m+\u001b[39m extra_count \u001b[38;5;241m<\u001b[39m max_cap\u001b[38;5;241m+\u001b[39m\u001b[38;5;241m1\u001b[39m: \u001b[38;5;66;03m# If adding the chapter doesn't exceed the limit\u001b[39;00m\n\u001b[1;32m     13\u001b[0m         count \u001b[38;5;241m+\u001b[39m\u001b[38;5;241m=\u001b[39m extra_count\n",
      "\u001b[0;31mTypeError\u001b[0m: 'int' object is not callable"
     ]
    }
   ],
   "source": [
    "def regroup_book(book, max_cap):\n",
    "    book_op = [] # Stores the regrouped chapters\n",
    "    remaining_book = book[:] # Creates a copy of the original book to avoid modifying it\n",
    "\n",
    "    while remaining_book: # Loop until all chapters have been processed\n",
    "        count = 0 # Tracks the total number of questions in the current chapter\n",
    "        chapter = []  # Stores the current chapter being formed\n",
    "        new_remaining_book = [] # Stores chapters that couldn't be added to the current chapter\n",
    "\n",
    "        for ind in range(len(remaining_book)):\n",
    "            extra_count = sum(remaining_book[ind]) # Calculates the total questions in the current chapter\n",
    "            if count + extra_count < max_cap+1: # If adding the chapter doesn't exceed the limit\n",
    "                count += extra_count\n",
    "                chapter.extend(remaining_book[ind]) # Add the chapter to the current chapter\n",
    "            else:\n",
    "                new_remaining_book.append(remaining_book[ind]) # Add the chapter to the remaining book\n",
    "\n",
    "        # If chapter exist\n",
    "        if chapter:\n",
    "            book_op.append(chapter) # Add the completed chapter to the output\n",
    "            remaining_book = new_remaining_book # Update the remaining book\n",
    "        else:\n",
    "            # If no chapters fit, add the remaining items directly to the output\n",
    "            book_op.extend(remaining_book)\n",
    "            break\n",
    "\n",
    "    return book_op\n",
    "\n",
    "book = [[1, 2, 3], [20], [2, 4, 8], [1, 1], [15], [11, 2, 4], [40], [1, 2], [1, 3, 2], [48]]\n",
    "max_cap = 50\n",
    "print(regroup_book(book, max_cap))"
   ]
  },
  {
   "cell_type": "code",
   "execution_count": 7,
   "metadata": {},
   "outputs": [
    {
     "name": "stdout",
     "output_type": "stream",
     "text": [
      "CPU times: user 30 μs, sys: 3 μs, total: 33 μs\n",
      "Wall time: 36.5 μs\n"
     ]
    },
    {
     "data": {
      "text/plain": [
       "[[1, 2, 3, 20, 1, 1], [2, 4, 8, 15], [11, 2, 4, 1, 2, 1, 3, 2], [40], [48]]"
      ]
     },
     "execution_count": 7,
     "metadata": {},
     "output_type": "execute_result"
    }
   ],
   "source": [
    "%%time\n",
    "def re_order(book): \n",
    "    re_book = [] \n",
    "    count = [0]*len(book) \n",
    "    for arr in book: \n",
    "        s = sum(arr) \n",
    "        # print(\"val\", s, arr, count) \n",
    "        for ind in range(len(count)): \n",
    "            if count[ind] == 0: \n",
    "                re_book.append(arr) \n",
    "                count[ind] = s \n",
    "                break \n",
    "            elif s + count[ind]<31: \n",
    "                count[ind]+= s \n",
    "                re_book[ind].extend(arr) \n",
    "                break\n",
    "\n",
    "    return re_book\n",
    "\n",
    "book = [[1, 2, 3], [20], [2, 4, 8], [1, 1], [15], [11, 2, 4], [40], [1, 2], [1, 3, 2], [48]]\n",
    "re_order(book)"
   ]
  },
  {
   "cell_type": "code",
   "execution_count": 23,
   "metadata": {},
   "outputs": [
    {
     "name": "stdout",
     "output_type": "stream",
     "text": [
      "62\n"
     ]
    }
   ],
   "source": [
    "import random\n",
    "\n",
    "def generate_random_number():\n",
    "    # Choose whether to pick from 20-30 or outside 20-30\n",
    "    if random.random() < 0.5:\n",
    "        # 50% chance: pick from 20-30\n",
    "        return random.randint(20, 30)\n",
    "    else:\n",
    "        # 50% chance: pick from 0-100 but excluding 20-30\n",
    "        while True:\n",
    "            num = random.randint(0, 100)\n",
    "            if num < 20 or num > 30:\n",
    "                return num\n",
    "\n",
    "# Example usage\n",
    "random_number = generate_random_number()\n",
    "print(random_number)\n"
   ]
  },
  {
   "cell_type": "code",
   "execution_count": 11,
   "metadata": {},
   "outputs": [
    {
     "name": "stdout",
     "output_type": "stream",
     "text": [
      "14\n",
      "2 5 "
     ]
    }
   ],
   "source": [
    "# Subarray with Given Sum\n",
    "def subarray_sum(arr, n, sum):\n",
    "    last = 0\n",
    "    start = 0\n",
    "    currsum = 0\n",
    "    flag = False\n",
    "    res = []\n",
    "\n",
    "    # Iterate over the array\n",
    "    for i in range(n):\n",
    "        # Store sum up to current element\n",
    "        currsum += arr[i]\n",
    "        # Check if current sum is greater than or equal to given number\n",
    "        if currsum >= sum:\n",
    "            last = i\n",
    "            # Start from starting index till current index\n",
    "            while sum < currsum and start < last:\n",
    "                # Subtract the element from left\n",
    "                currsum -= arr[start]\n",
    "                start += 1\n",
    "\n",
    "            # If current sum becomes equal to given number\n",
    "            if currsum == sum:\n",
    "                res.append(start + 1)\n",
    "                res.append(last + 1)\n",
    "                flag = True\n",
    "                break\n",
    "\n",
    "    # If no subarray is found, store -1 in result\n",
    "    if not flag:\n",
    "        res.append(-1)\n",
    "\n",
    "    # Return the result\n",
    "    return res\n",
    "\n",
    "\n",
    "# Driver Code\n",
    "arr = [15, 2, 4, 8, 9, 5, 10, 23]\n",
    "n = len(arr)\n",
    "sum = 23\n",
    "res = subarray_sum(arr, n, sum)\n",
    "for i in res:\n",
    "    print(i, end=\" \")\n"
   ]
  },
  {
   "cell_type": "code",
   "execution_count": 14,
   "metadata": {},
   "outputs": [
    {
     "name": "stdout",
     "output_type": "stream",
     "text": [
      "[1, 3, 5, 7, 11, 13, 21]\n",
      "[1, 3, 7, 11]\n",
      "Yes\n"
     ]
    }
   ],
   "source": [
    "# Find whether an array is subset of another array\n",
    "# Time Complexity: O(m log m + n log n)\n",
    "# Auxiliary Space: O(1)\n",
    "def is_subset(arr1, arr2):\n",
    "\n",
    "    # Sort both arrays in ascending order\n",
    "    arr1.sort()\n",
    "    arr2.sort()\n",
    "    print(arr1)\n",
    "    print(arr2)\n",
    "\n",
    "    i = 0\n",
    "    j = 0\n",
    "\n",
    "    # Traverse both arrays using two pointers\n",
    "    while i < len(arr1) and j < len(arr2):\n",
    "        if arr1[i] < arr2[j]:\n",
    "            # Element in arr1 is smaller, move to the next element in arr1\n",
    "            i += 1\n",
    "        elif arr1[i] == arr2[j]:\n",
    "            # Element found in both arrays, move to the next element in both arrays\n",
    "            i += 1\n",
    "            j += 1\n",
    "        else:\n",
    "            # Element in arr2 not found in arr1, not a subset\n",
    "            return False\n",
    "\n",
    "    # If we have traversed all elements in arr2, it is a subset\n",
    "    return j == len(arr2)\n",
    "\n",
    "\n",
    "# Example usage\n",
    "arr1 = [11, 1, 13, 21, 3, 5, 7]\n",
    "arr2 = [11, 3, 7, 1]\n",
    "\n",
    "if is_subset(arr1, arr2):\n",
    "    print(\"Yes\")\n",
    "else:\n",
    "    print(\"No\")\n"
   ]
  },
  {
   "cell_type": "code",
   "execution_count": 17,
   "metadata": {},
   "outputs": [
    {
     "data": {
      "text/plain": [
       "[7, 5, 3, 21, 13, 1, 11]"
      ]
     },
     "execution_count": 17,
     "metadata": {},
     "output_type": "execute_result"
    }
   ],
   "source": [
    "def reverseArray(arr):\n",
    "    # code here\n",
    "    if len(arr) <= 1:\n",
    "        return arr\n",
    "    else:\n",
    "        return reverseArray(arr[1:])+[arr[0]]\n",
    "    \n",
    "reverseArray([11, 1, 13, 21, 3, 5])"
   ]
  },
  {
   "cell_type": "code",
   "execution_count": 22,
   "metadata": {},
   "outputs": [
    {
     "data": {
      "text/plain": [
       "[[40], [4], [42], [8], [43], [4], [3], [19], [30], [6]]"
      ]
     },
     "execution_count": 22,
     "metadata": {},
     "output_type": "execute_result"
    }
   ],
   "source": [
    "[[40],\n",
    "    [4],\n",
    "    [42],\n",
    "    [8],\n",
    "    [43],\n",
    "    [4],\n",
    "    [3],\n",
    "    [19],\n",
    "    [30],\n",
    "    [6],\n",
    "]"
   ]
  },
  {
   "cell_type": "code",
   "execution_count": 40,
   "metadata": {},
   "outputs": [
    {
     "data": {
      "text/plain": [
       "[1, 3, 2, 11, 6, -1, -7, -5]"
      ]
     },
     "execution_count": 40,
     "metadata": {},
     "output_type": "execute_result"
    }
   ],
   "source": [
    "arr = [1, -1, 3, 2, -7, -5, 11, 6 ]\n",
    "N = len(arr)\n",
    "pos, neg = [], []\n",
    "for x in arr:\n",
    "    if x>0:\n",
    "        pos.append(x)\n",
    "    else:\n",
    "        neg.append(x)\n",
    "\n",
    "i = N-1\n",
    "while neg:\n",
    "    arr[i] = neg.pop()\n",
    "    i-=1\n",
    "\n",
    "while pos:\n",
    "    arr[i] = pos.pop()\n",
    "    i-=1\n",
    "arr"
   ]
  },
  {
   "cell_type": "code",
   "execution_count": 44,
   "metadata": {},
   "outputs": [
    {
     "name": "stdout",
     "output_type": "stream",
     "text": [
      "Index of row with maximum 1s is 1\n"
     ]
    }
   ],
   "source": [
    "# Row with maximun 1s.\n",
    "def rowWithMax1s(mat):\n",
    "    R = len(mat)\n",
    "    C = len(mat[0])\n",
    "    max_row = -1\n",
    "    r = 0\n",
    "    c = C-1\n",
    "    while r<R and c>=0:\n",
    "        if mat[r][c] == 0:\n",
    "            r+=1\n",
    "        else:\n",
    "            max_row = r\n",
    "            c-=1\n",
    "    return max_row\n",
    "\n",
    "# Driver Code\n",
    "mat = [[0, 0, 0, 0],\n",
    "       [1, 1, 1, 1],\n",
    "       [1, 1, 1, 1],\n",
    "       [0, 0, 0, 0]]\n",
    "print(\"Index of row with maximum 1s is\",\n",
    "      rowWithMax1s(mat))"
   ]
  },
  {
   "cell_type": "code",
   "execution_count": 51,
   "metadata": {},
   "outputs": [
    {
     "name": "stdout",
     "output_type": "stream",
     "text": [
      "[1, 1, 1, 1, 1, 2, 3, 3, 3, 3, 3, 3, 3]\n"
     ]
    },
    {
     "data": {
      "text/plain": [
       "3"
      ]
     },
     "execution_count": 51,
     "metadata": {},
     "output_type": "execute_result"
    }
   ],
   "source": [
    "# Given an array arr. Find the majority element in the array. If no majority exists, return -1.\n",
    "# A majority element in an array is an element that appears strictly more than arr.size()/2 times in the array.\n",
    "\n",
    "def get_majority_element(arr):\n",
    "    arr.sort()\n",
    "    N = len(arr)\n",
    "    cnt = 1\n",
    "    for i in range(1, N):\n",
    "        if arr[i-1] == arr[i]:\n",
    "            cnt+=1\n",
    "        else:\n",
    "            if cnt>N//2:\n",
    "                return arr[i-1]\n",
    "            cnt = 1\n",
    "    if cnt>N//2:\n",
    "        return arr[-1]\n",
    "    return -1\n",
    "\n",
    "data = [3, 1, 1, 1, 1, 1, 3, 3, 2, 3, 3, 3, 3,]\n",
    "get_majority_element(data)"
   ]
  },
  {
   "cell_type": "code",
   "execution_count": 52,
   "metadata": {},
   "outputs": [
    {
     "name": "stdout",
     "output_type": "stream",
     "text": [
      "[1, 2, 5, 10, 23, 49, 90]\n",
      "2 1 10 5 49 23 90 "
     ]
    }
   ],
   "source": [
    "# Python function to sort the array arr[0..n-1] in wave form,\n",
    "# i.e., arr[0] >= arr[1] <= arr[2] >= arr[3] <= arr[4] >= arr[5]\n",
    "def sortInWave(arr, n):\n",
    "    \n",
    "    #sort the array\n",
    "    arr.sort()\n",
    "    print(arr)\n",
    "   \n",
    "    # Swap adjacent elements\n",
    "    for i in range(0,n-1,2):\n",
    "        arr[i], arr[i+1] = arr[i+1], arr[i]\n",
    "\n",
    "# Driver program\n",
    "arr = [10, 90, 49, 2, 1, 5, 23]\n",
    "sortInWave(arr, len(arr))\n",
    "for i in range(0,len(arr)):\n",
    "    print (arr[i],end=\" \")\n",
    "    \n",
    "# This code is contributed by __Devesh Agrawal__\n"
   ]
  },
  {
   "cell_type": "code",
   "execution_count": 57,
   "metadata": {},
   "outputs": [
    {
     "name": "stdout",
     "output_type": "stream",
     "text": [
      "[2, 1, 5, 23, 10, 90, 49]\n"
     ]
    }
   ],
   "source": [
    "# Program to cyclically rotate an array by one\n",
    "def rotate(arr, n, r):\n",
    "    for _ in range(r):\n",
    "        i = 0\n",
    "        j = n-1\n",
    "        while i!=j:\n",
    "            arr[i], arr[j] = arr[j], arr[i]\n",
    "            i+=1\n",
    "\n",
    "data = [10, 90, 49, 2, 1, 5, 23]\n",
    "rotate(data, len(data), 4)\n",
    "print(data)"
   ]
  },
  {
   "cell_type": "code",
   "execution_count": 59,
   "metadata": {},
   "outputs": [
    {
     "data": {
      "text/plain": [
       "93326215443944152681699238856266700490715968264381621468592963895217599993229915608941463976156518286253697920827223758251185210916864000000000000000000000000"
      ]
     },
     "execution_count": 59,
     "metadata": {},
     "output_type": "execute_result"
    }
   ],
   "source": [
    "# factorial of large number\n",
    "\n",
    "def fact_rec(n):\n",
    "    if n <=1:\n",
    "        return 1\n",
    "    return n*fact_rec(n-1)\n",
    "\n",
    "fact_rec(100)"
   ]
  },
  {
   "cell_type": "code",
   "execution_count": 3,
   "metadata": {},
   "outputs": [
    {
     "name": "stdout",
     "output_type": "stream",
     "text": [
      "865\n"
     ]
    }
   ],
   "source": [
    "# Buy/Sell Stock for maximum profit.\n",
    "prices = [100, 180, 260, 310, 40, 535, 695]\n",
    "N = len(prices)\n",
    "profit = 0\n",
    "for i in range(1, N):\n",
    "    if prices[i]>prices[i-1]:\n",
    "        profit+=prices[i]-prices[i-1]\n",
    "print(profit)"
   ]
  },
  {
   "cell_type": "code",
   "execution_count": 21,
   "metadata": {},
   "outputs": [
    {
     "name": "stdout",
     "output_type": "stream",
     "text": [
      "Index of a peak point is 4\n"
     ]
    }
   ],
   "source": [
    "# find Peak element.\n",
    "# An element is considered to be peak if its value is greater than or equal to the values of its adjacent elements (if they exist) \n",
    "# Note: If the array is increasing then just print the last element will be the maximum value.\n",
    "def get_value(arr, idx):\n",
    "    if idx<0 or idx>(len(arr)-1):\n",
    "        return -1\n",
    "    return arr[idx]\n",
    "\n",
    "def findPeak(arr, n):\n",
    "    if n == 1:\n",
    "        return 0\n",
    "    for i in range(n):\n",
    "        if get_value(arr, i-1)<=get_value(arr, i) and get_value(arr, i)>=get_value(arr, i+1):\n",
    "            return get_value(arr, i)\n",
    "\n",
    "# Driver code.\n",
    "arr = [1, 3, 4, 1, 0]\n",
    "n = len(arr)\n",
    "print(\"Index of a peak point is\", findPeak(arr, n))"
   ]
  },
  {
   "cell_type": "code",
   "execution_count": 33,
   "metadata": {},
   "outputs": [
    {
     "name": "stdout",
     "output_type": "stream",
     "text": [
      "[-10, -7, 0, 2, 3, 4, 4, 7, 8]\n",
      "-7 7\n"
     ]
    }
   ],
   "source": [
    "# pair equals to sum\n",
    "arr = [4, 8, 4, 2, 0, -10, 7, 3, -7]\n",
    "target = 0\n",
    "arr.sort()\n",
    "i = 0\n",
    "j = len(arr)-1\n",
    "print(arr)\n",
    "while i <j:\n",
    "    s = arr[i]+arr[j]\n",
    "    if s<target:\n",
    "        i+=1\n",
    "    elif s>target:\n",
    "        j-=1\n",
    "    else:\n",
    "        print(arr[i], arr[j])\n",
    "        i+=1\n",
    "        j-=1"
   ]
  },
  {
   "cell_type": "code",
   "execution_count": 34,
   "metadata": {},
   "outputs": [
    {
     "name": "stdout",
     "output_type": "stream",
     "text": [
      "{1: 1, 5: 2, 7: 1, -1: 1}\n",
      "3\n"
     ]
    }
   ],
   "source": [
    "# pair eqal to sum\n",
    "def count_pairs(arr, target):\n",
    "    count = 0\n",
    "    num_count = {}\n",
    "    \n",
    "    for num in arr:\n",
    "        complement = target - num \n",
    "        if complement in num_count:\n",
    "          \n",
    "             # Add the count of the complement\n",
    "            count += num_count[complement]\n",
    "            \n",
    "        # Update the count of the current number\n",
    "        num_count[num] = num_count.get(num, 0) + 1\n",
    "    print(num_count)\n",
    "    return count # Return the total count of pairs\n",
    "\n",
    "arr = [1, 5, 7, -1, 5]\n",
    "target = 6\n",
    "\n",
    "print(count_pairs(arr, target)) \n"
   ]
  },
  {
   "cell_type": "code",
   "execution_count": 40,
   "metadata": {},
   "outputs": [
    {
     "name": "stdout",
     "output_type": "stream",
     "text": [
      "{-1: 2, 2: 2, 3: 2}\n",
      "-1\n"
     ]
    }
   ],
   "source": [
    "# Efficient Python3 program to find first\n",
    "# non-repeating element.\n",
    "from collections import defaultdict\n",
    "\n",
    "\n",
    "def firstNonRepeating(arr, n):\n",
    "\tmp = {}\n",
    "\n",
    "\t# Insert all array elements in hash table\n",
    "\tfor i in range(n):\n",
    "\t\tmp[arr[i]] = mp.get(arr[i], 0)+1\n",
    "\n",
    "\t# Traverse array again and return\n",
    "\t# first element with count 1.\n",
    "\tprint(mp)\n",
    "\tfor i in range(n):\n",
    "\t\tif mp[arr[i]] == 1:\n",
    "\t\t\treturn arr[i]\n",
    "\treturn -1\n",
    "\n",
    "\n",
    "# Driver Code\n",
    "arr = [-1, 2, -1, 3, 3, 2]\n",
    "n = len(arr)\n",
    "print(firstNonRepeating(arr, n))\n",
    "\n",
    "# This code is contributed by Shrikant13\n"
   ]
  },
  {
   "cell_type": "code",
   "execution_count": 41,
   "metadata": {},
   "outputs": [
    {
     "name": "stdout",
     "output_type": "stream",
     "text": [
      "1 -4 2 -1 3 4\n"
     ]
    }
   ],
   "source": [
    "# Python program to rearrange positive and negative numbers \n",
    "# alternately using Two pointers \n",
    "\n",
    "# Function to rearrange positive and negative integers \n",
    "# in alternate fashion\n",
    "def rearrange(arr):\n",
    "    pos = []\n",
    "    neg = []\n",
    "\n",
    "    # Separate positive and negative numbers\n",
    "    for num in arr:\n",
    "        if num >= 0:\n",
    "            pos.append(num)\n",
    "        else:\n",
    "            neg.append(num)\n",
    "\n",
    "    posIdx = 0\n",
    "    negIdx = 0\n",
    "    i = 0\n",
    "\n",
    "    # Place positive and negative numbers alternately\n",
    "    # in the original array\n",
    "    while posIdx < len(pos) and negIdx < len(neg):\n",
    "        if i % 2 == 0:\n",
    "            arr[i] = pos[posIdx]\n",
    "            posIdx += 1\n",
    "        else:\n",
    "            arr[i] = neg[negIdx]\n",
    "            negIdx += 1\n",
    "        i += 1\n",
    "\n",
    "    # Append remaining positive numbers (if any)\n",
    "    while posIdx < len(pos):\n",
    "        arr[i] = pos[posIdx]\n",
    "        posIdx += 1\n",
    "        i += 1\n",
    "\n",
    "    # Append remaining negative numbers (if any)\n",
    "    while negIdx < len(neg):\n",
    "        arr[i] = neg[negIdx]\n",
    "        negIdx += 1\n",
    "        i += 1\n",
    "\n",
    "if __name__ == \"__main__\":\n",
    "    arr = [1, 2, 3, -4, -1, 4]\n",
    "    rearrange(arr)\n",
    "    print(' '.join(map(str, arr)))\n"
   ]
  },
  {
   "cell_type": "code",
   "execution_count": 43,
   "metadata": {},
   "outputs": [
    {
     "name": "stdout",
     "output_type": "stream",
     "text": [
      "30\n"
     ]
    }
   ],
   "source": [
    "# Python Program for Maximum Subarray Sum using Kadane's Algorithm\n",
    "\n",
    "# Function to find the maximum subarray sum\n",
    "def maxSubarraySum(arr):\n",
    "    \n",
    "    res = arr[0]\n",
    "    maxEnding = arr[0]\n",
    "\n",
    "    for i in range(1, len(arr)):\n",
    "        \n",
    "        # Find the maximum sum ending at index i by either extending \n",
    "        # the maximum sum subarray ending at index i - 1 or by\n",
    "        # starting a new subarray from index i\n",
    "        maxEnding = max(maxEnding + arr[i], arr[i])\n",
    "        \n",
    "        # Update res if maximum subarray sum ending at index i > res\n",
    "        res = max(res, maxEnding)\n",
    "    \n",
    "    return res\n",
    "\n",
    "arr = [2, 3, -8, 7, -1, 2, 3]\n",
    "print(maxSubarraySum(arr))\n"
   ]
  },
  {
   "cell_type": "code",
   "execution_count": 46,
   "metadata": {},
   "outputs": [
    {
     "name": "stdout",
     "output_type": "stream",
     "text": [
      "180\n"
     ]
    }
   ],
   "source": [
    "# Python program to find Maximum Product Subarray \n",
    "# using nested loops\n",
    "\n",
    "# Function to returns the product of max product subarray\n",
    "def maxProduct(arr):\n",
    "    n = len(arr)\n",
    "  \n",
    "    # Initializing result\n",
    "    result = arr[0]\n",
    "\n",
    "    for i in range(n):\n",
    "        mul = 1\n",
    "      \n",
    "        # traversing in current subarray\n",
    "        for j in range(i, n):\n",
    "            mul *= arr[j]\n",
    "          \n",
    "            # updating result every time\n",
    "            # to keep track of the maximum product\n",
    "            result = max(result, mul)\n",
    "    \n",
    "    return result\n",
    "\n",
    "if __name__ == \"__main__\":\n",
    "    arr = [-2, 6, -3, -10, 0, 2]\n",
    "    print(maxProduct(arr))\n"
   ]
  },
  {
   "cell_type": "code",
   "execution_count": 55,
   "metadata": {},
   "outputs": [
    {
     "name": "stdout",
     "output_type": "stream",
     "text": [
      "6\n",
      "-3\n",
      "30\n",
      "0\n",
      "2\n",
      "30\n"
     ]
    }
   ],
   "source": [
    "def maxSubarrayProd(arr):\n",
    "    \n",
    "    res = arr[0]\n",
    "    maxEnding = arr[0]\n",
    "\n",
    "    for i in range(1, len(arr)):\n",
    "        \n",
    "        # Find the maximum sum ending at index i by either extending \n",
    "        # the maximum sum subarray ending at index i - 1 or by\n",
    "        # starting a new subarray from index i\n",
    "        maxEnding = max(maxEnding * arr[i], arr[i])\n",
    "        print(maxEnding)\n",
    "        # Update res if maximum subarray sum ending at index i > res\n",
    "        res = max(res, maxEnding)\n",
    "    \n",
    "    return res\n",
    "\n",
    "arr1 = [-2, 6, -3, -10, 0, 2]\n",
    "print(maxSubarrayProd(arr1))"
   ]
  },
  {
   "cell_type": "code",
   "execution_count": 60,
   "metadata": {},
   "outputs": [
    {
     "data": {
      "text/plain": [
       "(2, 1)"
      ]
     },
     "execution_count": 60,
     "metadata": {},
     "output_type": "execute_result"
    }
   ],
   "source": [
    "def findTwoElement(arr): \n",
    "    # code here\n",
    "    n = len(arr)\n",
    "    Sum = n*(n+1)//2\n",
    "    dp = {}\n",
    "    ch = None\n",
    "    for v in arr:\n",
    "        c = dp.get(v, 0)+1\n",
    "        if c == 2:\n",
    "            ch = v\n",
    "            break\n",
    "        dp[v] = c\n",
    "    return ch, ch+(Sum-sum(arr))\n",
    "\n",
    "findTwoElement([2,2])"
   ]
  },
  {
   "cell_type": "code",
   "execution_count": null,
   "metadata": {},
   "outputs": [],
   "source": []
  }
 ],
 "metadata": {
  "kernelspec": {
   "display_name": "Python 3",
   "language": "python",
   "name": "python3"
  },
  "language_info": {
   "codemirror_mode": {
    "name": "ipython",
    "version": 3
   },
   "file_extension": ".py",
   "mimetype": "text/x-python",
   "name": "python",
   "nbconvert_exporter": "python",
   "pygments_lexer": "ipython3",
   "version": "3.11.9"
  }
 },
 "nbformat": 4,
 "nbformat_minor": 2
}
