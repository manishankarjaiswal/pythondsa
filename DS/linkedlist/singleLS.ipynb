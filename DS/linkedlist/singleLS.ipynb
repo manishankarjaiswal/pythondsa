{
 "cells": [
  {
   "cell_type": "code",
   "execution_count": 1,
   "metadata": {},
   "outputs": [],
   "source": [
    "class Node:\n",
    "    def __init__(self, data):\n",
    "        self.data = data\n",
    "        self.next = None"
   ]
  },
  {
   "cell_type": "code",
   "execution_count": 261,
   "metadata": {},
   "outputs": [],
   "source": [
    "class SingleLS:\n",
    "    def __init__(self):\n",
    "        self.head = None\n",
    "\n",
    "    def insertAtBegining(self, data):\n",
    "        new_node = Node(data)\n",
    "        new_node.next = self.head\n",
    "        self.head = new_node\n",
    "        return\n",
    "\n",
    "    def insertAtEnd(self, data):   \n",
    "        if self.head is None:\n",
    "            self.insertAtBegining(data)\n",
    "            return\n",
    "        head = self.head\n",
    "        while(head.next):\n",
    "            head = head.next\n",
    "        new_node = Node(data)\n",
    "        head.next = new_node\n",
    "        return\n",
    "        \n",
    "    # 0,1,2,3,4\n",
    "    def insertAtIndex(self, data, idx=0):\n",
    "        if idx == 0:\n",
    "            self.insertAtBegining(data)\n",
    "            return\n",
    "        pos = 0\n",
    "        head = self.head\n",
    "        while head.next and pos+1<(idx):\n",
    "            head = head.next\n",
    "            pos+=1\n",
    "        if head and pos+1==idx:\n",
    "            new_node = Node(data)\n",
    "            new_node.next = head.next\n",
    "            head.next= new_node\n",
    "            return\n",
    "        else:\n",
    "            print(\"Idx not present.\")\n",
    "            return\n",
    "\n",
    "    def find(self, data):\n",
    "        head = self.head\n",
    "        if head:\n",
    "            while(head):\n",
    "                if head.data == data:\n",
    "                    return head\n",
    "                head = head.next\n",
    "        return\n",
    "\n",
    "    def updateNodeData(self, data, update_data):\n",
    "        node = self.find(data)\n",
    "        if node:\n",
    "            node.data = update_data\n",
    "            return node\n",
    "        print(\"Node not found.\")\n",
    "        return\n",
    "    \n",
    "    def removeAtBegining(self):\n",
    "        if self.head is None:\n",
    "            return\n",
    "        self.head = self.head.next\n",
    "\n",
    "    def removeAtEnd(self):\n",
    "        if self.head is None:\n",
    "            return\n",
    "        head = self.head\n",
    "        while(head.next and head.next.next):\n",
    "            head = head.next\n",
    "        head.next = None\n",
    "\n",
    "    # 1,2\n",
    "    def removeAtIndex(self, idx=0):\n",
    "        if idx==0:\n",
    "            self.removeAtBegining()\n",
    "            return\n",
    "        pos = 0\n",
    "        head = self.head\n",
    "        while(head.next and pos+1<idx):\n",
    "            head = head.next\n",
    "            pos+=1\n",
    "        if head.next and pos+1==idx:\n",
    "            head.next = head.next.next\n",
    "        else:\n",
    "            print(\"Idx not found.\")\n",
    "        return\n",
    "    \n",
    "    # 1, 2, 3, 4\n",
    "    def removeNode(self, data):\n",
    "        if self.head is None:\n",
    "            return\n",
    "        \n",
    "        head = self.head\n",
    "        if head.data == data:\n",
    "            self.head = self.head.next\n",
    "            return\n",
    "            \n",
    "        prev = None\n",
    "        while(head):\n",
    "            if head.data == data:\n",
    "                prev.next = head.next\n",
    "                return\n",
    "            prev = head\n",
    "            head = head.next\n",
    "\n",
    "    def displayNode(self):\n",
    "        head = self.head\n",
    "        while head:\n",
    "            print(head.data)\n",
    "            head = head.next\n",
    "\n",
    "    # 1,2,3,4\n",
    "    def size(self):\n",
    "        if self.head is None:\n",
    "            return 0\n",
    "        size = 1\n",
    "        head = self.head\n",
    "        while(head.next):\n",
    "            size+=1\n",
    "            head = head.next\n",
    "        return size\n",
    "    \n",
    "    # 1,2, 3 --->4\n",
    "    def insert_in_sorting_order(self, data):\n",
    "        if self.head is None:\n",
    "            self.insertAtBegining(data)\n",
    "            return\n",
    "        elif self.head.next is None:\n",
    "            new_node = Node(data)\n",
    "            if data <= self.head.data:\n",
    "                new_node.next = self.head\n",
    "                self.head = new_node\n",
    "            else:\n",
    "                self.head.next = new_node\n",
    "        else:\n",
    "            head = self.head\n",
    "            prev = None\n",
    "            new_node = Node(data)\n",
    "            while(head):\n",
    "                if data<=head.data:\n",
    "                    if prev is None:\n",
    "                        new_node.next = head\n",
    "                        self.head = new_node\n",
    "                    else:                    \n",
    "                        new_node.next = prev.next\n",
    "                        prev.next = new_node\n",
    "                    return\n",
    "                prev = head\n",
    "                head = head.next \n",
    "            prev.next = new_node\n",
    "        return"
   ]
  },
  {
   "cell_type": "code",
   "execution_count": 262,
   "metadata": {},
   "outputs": [],
   "source": [
    "sl = SingleLS()"
   ]
  },
  {
   "cell_type": "code",
   "execution_count": 267,
   "metadata": {},
   "outputs": [],
   "source": [
    "# sl.insert_in_sorting_order(0)\n",
    "# sl.insert_in_sorting_order(1)\n",
    "# sl.insert_in_sorting_order(2)\n",
    "# sl.insert_in_sorting_order(3)\n",
    "# sl.insert_in_sorting_order(3)"
   ]
  },
  {
   "cell_type": "code",
   "execution_count": 268,
   "metadata": {},
   "outputs": [
    {
     "name": "stdout",
     "output_type": "stream",
     "text": [
      "0\n",
      "0\n",
      "1\n"
     ]
    }
   ],
   "source": [
    "sl.displayNode()"
   ]
  },
  {
   "cell_type": "code",
   "execution_count": 61,
   "metadata": {},
   "outputs": [
    {
     "name": "stdout",
     "output_type": "stream",
     "text": [
      "3\n",
      "4\n"
     ]
    }
   ],
   "source": [
    "sl.insertAtBegining(4)\n",
    "# sl.displayNode()\n",
    "sl.insertAtBegining(3)\n",
    "sl.displayNode()"
   ]
  },
  {
   "cell_type": "code",
   "execution_count": null,
   "metadata": {},
   "outputs": [],
   "source": []
  },
  {
   "cell_type": "code",
   "execution_count": 62,
   "metadata": {},
   "outputs": [],
   "source": [
    "sl = SingleLS()"
   ]
  },
  {
   "cell_type": "code",
   "execution_count": 250,
   "metadata": {},
   "outputs": [
    {
     "name": "stdout",
     "output_type": "stream",
     "text": [
      "0\n",
      "1\n",
      "2\n",
      "5\n",
      "4\n",
      "3\n"
     ]
    }
   ],
   "source": [
    "sl.insertAtEnd(4)\n",
    "sl.insertAtEnd(3)\n",
    "sl.displayNode()\n",
    "\n"
   ]
  },
  {
   "cell_type": "code",
   "execution_count": 247,
   "metadata": {},
   "outputs": [],
   "source": [
    "sl = SingleLS()"
   ]
  },
  {
   "cell_type": "code",
   "execution_count": 248,
   "metadata": {},
   "outputs": [
    {
     "name": "stdout",
     "output_type": "stream",
     "text": [
      "0\n",
      "1\n",
      "2\n",
      "5\n"
     ]
    }
   ],
   "source": [
    "sl.insertAtIndex(0)\n",
    "sl.insertAtIndex(1, 1)\n",
    "sl.insertAtIndex(2, 2)\n",
    "sl.insertAtIndex(5, 3)\n",
    "sl.displayNode()"
   ]
  },
  {
   "cell_type": "code",
   "execution_count": 179,
   "metadata": {},
   "outputs": [
    {
     "name": "stdout",
     "output_type": "stream",
     "text": [
      "5\n"
     ]
    }
   ],
   "source": [
    "print(sl.find(5).data)"
   ]
  },
  {
   "cell_type": "code",
   "execution_count": 181,
   "metadata": {},
   "outputs": [
    {
     "name": "stdout",
     "output_type": "stream",
     "text": [
      "Node not found.\n"
     ]
    }
   ],
   "source": [
    "N = sl.updateNodeData(10, 11)\n",
    "if N:\n",
    "    print(N.data)\n"
   ]
  },
  {
   "cell_type": "code",
   "execution_count": 190,
   "metadata": {},
   "outputs": [],
   "source": [
    "sl.removeAtBegining()\n",
    "sl.displayNode()"
   ]
  },
  {
   "cell_type": "code",
   "execution_count": 191,
   "metadata": {},
   "outputs": [],
   "source": [
    "sl.removeAtEnd()\n",
    "sl.displayNode()"
   ]
  },
  {
   "cell_type": "code",
   "execution_count": 225,
   "metadata": {},
   "outputs": [
    {
     "name": "stdout",
     "output_type": "stream",
     "text": [
      "1\n",
      "2\n",
      "5\n"
     ]
    }
   ],
   "source": [
    "sl.removeAtIndex()\n",
    "sl.displayNode()"
   ]
  },
  {
   "cell_type": "code",
   "execution_count": 245,
   "metadata": {},
   "outputs": [
    {
     "name": "stdout",
     "output_type": "stream",
     "text": [
      "2\n"
     ]
    }
   ],
   "source": [
    "sl.displayNode()"
   ]
  },
  {
   "cell_type": "code",
   "execution_count": 244,
   "metadata": {},
   "outputs": [],
   "source": [
    "sl.removeNode(5)"
   ]
  },
  {
   "cell_type": "code",
   "execution_count": 251,
   "metadata": {},
   "outputs": [
    {
     "data": {
      "text/plain": [
       "6"
      ]
     },
     "execution_count": 251,
     "metadata": {},
     "output_type": "execute_result"
    }
   ],
   "source": [
    "sl.size()"
   ]
  },
  {
   "cell_type": "code",
   "execution_count": 270,
   "metadata": {},
   "outputs": [
    {
     "name": "stdout",
     "output_type": "stream",
     "text": [
      "false\n"
     ]
    }
   ],
   "source": [
    "# Python program to detect loop\n",
    "# in the linked list using hashset\n",
    "\n",
    "class Node:\n",
    "    def __init__(self, x):\n",
    "        self.data = x\n",
    "        self.next = None\n",
    "\n",
    "# Function that returns true if there is a loop in linked\n",
    "# list else returns false.\n",
    "def detect_loop(head):\n",
    "    st = set()\n",
    "\n",
    "    # loop that runs till the head is None\n",
    "    while head is not None:\n",
    "\n",
    "        # If this node is already present\n",
    "        # in hashmap it means there is a cycle\n",
    "        # (Because you will be encountering the\n",
    "        # node for the second time).\n",
    "        if head in st:\n",
    "            return True\n",
    "\n",
    "        # If we are seeing the node for\n",
    "        # the first time, insert it in hash\n",
    "        st.add(head)\n",
    "\n",
    "        head = head.next\n",
    "    return False\n",
    "\n",
    "# Create a hard-coded linked list:\n",
    "# 10 -> 20 -> 30 -> 40 -> 50 -> 60 -> 70\n",
    "head = Node(10)\n",
    "head.next = Node(20)\n",
    "head.next.next = Node(30)\n",
    "head.next.next.next = Node(40)\n",
    "head.next.next.next.next = Node(50)\n",
    "head.next.next.next.next.next = Node(60)\n",
    "\n",
    "# head.next.next.next.next = head\n",
    "\n",
    "if detect_loop(head):\n",
    "    print(\"true\")\n",
    "else:\n",
    "    print(\"false\")\n"
   ]
  },
  {
   "cell_type": "code",
   "execution_count": null,
   "metadata": {},
   "outputs": [],
   "source": []
  }
 ],
 "metadata": {
  "kernelspec": {
   "display_name": "Python 3",
   "language": "python",
   "name": "python3"
  },
  "language_info": {
   "codemirror_mode": {
    "name": "ipython",
    "version": 3
   },
   "file_extension": ".py",
   "mimetype": "text/x-python",
   "name": "python",
   "nbconvert_exporter": "python",
   "pygments_lexer": "ipython3",
   "version": "3.11.9"
  }
 },
 "nbformat": 4,
 "nbformat_minor": 2
}
