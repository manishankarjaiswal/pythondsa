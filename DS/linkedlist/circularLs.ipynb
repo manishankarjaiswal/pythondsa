{
 "cells": [
  {
   "cell_type": "code",
   "execution_count": 2,
   "metadata": {},
   "outputs": [],
   "source": [
    "# Node structure\n",
    "class Node:\n",
    "\tdef __init__(self, data):\n",
    "\t\tself.data = data\n",
    "\t\tself.next = None\n",
    "\t\n",
    "import math\n",
    "def is_power_of_2(x):\n",
    "\tif x<1:\n",
    "\t\treturn False\n",
    "\tlog_val = math.log2(x)\n",
    "\treturn log_val.is_integer()"
   ]
  },
  {
   "cell_type": "code",
   "execution_count": 36,
   "metadata": {},
   "outputs": [],
   "source": [
    "def aliveSol(N):\n",
    "    if is_power_of_2(N):\n",
    "        return 1\n",
    "\n",
    "    new_node = Node(1)\n",
    "    new_node.next = new_node\n",
    "    last = new_node\n",
    "\n",
    "    for i in range(2, N+1):\n",
    "        temp = Node(i)\n",
    "        temp.next = last.next\n",
    "        last.next = temp\n",
    "        last = temp\n",
    "\n",
    "    curr = last.next\n",
    "    temp = None\n",
    "    while(curr.next != curr):\n",
    "        temp = curr\n",
    "        curr = curr.next\n",
    "        temp.next = curr.next\n",
    "\n",
    "        del curr\n",
    "        temp = temp.next\n",
    "        curr = temp\n",
    "    \n",
    "    res = temp.data\n",
    "    del temp\n",
    "    return res\n",
    "    \n"
   ]
  },
  {
   "cell_type": "code",
   "execution_count": 37,
   "metadata": {},
   "outputs": [
    {
     "data": {
      "text/plain": [
       "73"
      ]
     },
     "execution_count": 37,
     "metadata": {},
     "output_type": "execute_result"
    }
   ],
   "source": [
    "N = 100\n",
    "aliveSol(N)"
   ]
  },
  {
   "cell_type": "code",
   "execution_count": 41,
   "metadata": {},
   "outputs": [
    {
     "name": "stdout",
     "output_type": "stream",
     "text": [
      "g e\n",
      "e e\n",
      "e e\n",
      "k e\n",
      "s e\n",
      "f e\n",
      "o e\n",
      "r e\n",
      "g e\n",
      "e e\n",
      "7\n"
     ]
    }
   ],
   "source": [
    "# Python code to find the largest substring with\n",
    "# non-repeating characters using Sliding Window\n",
    "\n",
    "def longestUniqueSubstr(s):\n",
    "  \n",
    "    # if string length is 0\n",
    "    if len(s) == 0:\n",
    "        return 0\n",
    "\n",
    "    # if string length 1\n",
    "    if len(s) == 1:\n",
    "        return 1\n",
    "\n",
    "    # if string length is more than 1\n",
    "    maxLength = 0\n",
    "    visited = [False] * 256\n",
    "\n",
    "    # left and right pointer of sliding window\n",
    "    left = 0\n",
    "    right = 0\n",
    "    while right < len(s):\n",
    "\n",
    "        # If the character is repeated, move left pointer \n",
    "        # to the right and mark visited characters as false \n",
    "        # until the repeating character is no longer part\n",
    "        # of the current window.\n",
    "        while visited[ord(s[right])] == True:\n",
    "            print(s[left], s[right])\n",
    "            visited[ord(s[left])] = False\n",
    "            left += 1\n",
    "\n",
    "        visited[ord(s[right])] = True\n",
    "\n",
    "        # The length of the current window (right - left + 1)\n",
    "        # is calculated and answer is updated accordingly.\n",
    "        maxLength = max(maxLength, right - left + 1)\n",
    "        right += 1\n",
    "\n",
    "    return maxLength\n",
    "\n",
    "if __name__ == \"__main__\":\n",
    "    s = \"geeksforgeeks\"\n",
    "    print(longestUniqueSubstr(s))\n"
   ]
  },
  {
   "cell_type": "code",
   "execution_count": 43,
   "metadata": {},
   "outputs": [],
   "source": [
    "# Balanced Parenthesis\n",
    "def isValid(s: str) -> bool:\n",
    "    stack = []\n",
    "    for i in s:\n",
    "        if i == '(' or i == '{' or i == '[':\n",
    "            stack.append(i)\n",
    "        else:\n",
    "            if stack:\n",
    "                j = stack.pop()\n",
    "                if (i == ')' and j == '(') or (i == '}' and j == '{') or (i == ']' and j == '['):\n",
    "                    continue\n",
    "                else:\n",
    "                    return False\n",
    "            else:\n",
    "                return False\n",
    "    if stack:\n",
    "        return False\n",
    "    return True"
   ]
  },
  {
   "cell_type": "code",
   "execution_count": 60,
   "metadata": {},
   "outputs": [
    {
     "data": {
      "text/plain": [
       "(True, False, True, True)"
      ]
     },
     "execution_count": 60,
     "metadata": {},
     "output_type": "execute_result"
    }
   ],
   "source": [
    "isValid('()'), isValid('({)}'), isValid('[](){}'), isValid('[()]{}{[()()]()}')"
   ]
  },
  {
   "cell_type": "code",
   "execution_count": 80,
   "metadata": {},
   "outputs": [
    {
     "name": "stdout",
     "output_type": "stream",
     "text": [
      "[1, 2, 7, 4]\n",
      "[1, 2, (3, 5), 4]\n"
     ]
    }
   ],
   "source": [
    "import copy\n",
    "li1 = [1, 2, (3, 5), 4]\n",
    "li2 = copy.copy(li1)\n",
    "li1[2]=7\n",
    "print(li1)\n",
    "print(li2)"
   ]
  },
  {
   "cell_type": "code",
   "execution_count": 52,
   "metadata": {},
   "outputs": [
    {
     "name": "stdout",
     "output_type": "stream",
     "text": [
      "{'db': 'postgres', 'caching': {'enabled': False, 'timeout': 300}, 'debug': False}\n",
      "{'db': 'postgres', 'caching': {'enabled': False, 'timeout': 300}, 'debug': False}\n"
     ]
    }
   ],
   "source": [
    "import copy\n",
    "\n",
    "project_settings = {\n",
    "    'db': 'postgres',\n",
    "    'caching': {'enabled': True, 'timeout': 300},\n",
    "    'debug': False\n",
    "}\n",
    "\n",
    "# Shallow copy\n",
    "copied_settings = copy.copy(project_settings)\n",
    "\n",
    "\n",
    "copied_settings['caching']['enabled'] = False  # Now we can modify 'debug' without affecting the original\n",
    "print(copied_settings)  # {'db': 'postgres', 'caching': {'enabled': True, 'timeout': 300}, 'debug': True}\n",
    "print(project_settings)  # {'db': 'postgres', 'caching': {'enabled': True, 'timeout': 300}, 'debug': False}\n"
   ]
  }
 ],
 "metadata": {
  "kernelspec": {
   "display_name": "Python 3",
   "language": "python",
   "name": "python3"
  },
  "language_info": {
   "codemirror_mode": {
    "name": "ipython",
    "version": 3
   },
   "file_extension": ".py",
   "mimetype": "text/x-python",
   "name": "python",
   "nbconvert_exporter": "python",
   "pygments_lexer": "ipython3",
   "version": "3.11.9"
  }
 },
 "nbformat": 4,
 "nbformat_minor": 2
}
