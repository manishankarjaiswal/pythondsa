{
 "cells": [
  {
   "cell_type": "code",
   "execution_count": 1,
   "metadata": {},
   "outputs": [
    {
     "data": {
      "text/plain": [
       "(5, 7)"
      ]
     },
     "execution_count": 1,
     "metadata": {},
     "output_type": "execute_result"
    }
   ],
   "source": [
    "num_nodes1 = 5\n",
    "edges1 = [(0, 1), (1, 2), (2, 3), (3, 4), (4, 0), (1, 4), (1, 3)]\n",
    "num_nodes1, len(edges1)"
   ]
  },
  {
   "cell_type": "code",
   "execution_count": 2,
   "metadata": {},
   "outputs": [],
   "source": [
    "class Graph:\n",
    "    def __init__(self, N, edges) -> None:\n",
    "        self.data = [[] for _ in range(N)]\n",
    "        for i, v in edges:\n",
    "            self.data[i].append(v)\n",
    "            self.data[v].append(i)\n",
    "    \n",
    "    def bfs(self, source):\n",
    "        visited = [False for _ in range(len(self.data))]\n",
    "        queue = [source]\n",
    "        visited[source] = True\n",
    "        i = 0\n",
    "        while i < len(queue):\n",
    "            for v in self.data[queue[i]]:\n",
    "                if visited[v] is False:\n",
    "                    queue.append(v)\n",
    "                    visited[v] = True\n",
    "            i+=1\n",
    "        return queue\n",
    "    \n",
    "    def dfs(self, source):\n",
    "        visited = [False for _ in range(len(self.data))]\n",
    "        stack = [source]\n",
    "        result = []\n",
    "        while len(stack)>0:\n",
    "            current = stack.pop()\n",
    "            if visited[current] is False:\n",
    "                visited[current] = True\n",
    "                result.append(current)\n",
    "                for v in self.data[current]:\n",
    "                    if visited[v] is False:\n",
    "                        stack.insert(0, v)\n",
    "        return result\n",
    "    \n",
    "    def __repr__(self) -> str:\n",
    "        result = \"\"\n",
    "        for i, v in enumerate(self.data):\n",
    "            result += str(i)+\" : \"+ str(v)+\"\\n\"\n",
    "        return result\n",
    "    \n",
    "    def __str__(self) -> str:\n",
    "        return self.__repr__()"
   ]
  },
  {
   "cell_type": "code",
   "execution_count": 5,
   "metadata": {},
   "outputs": [
    {
     "data": {
      "text/plain": [
       "0 : [1, 4]\n",
       "1 : [0, 2, 4, 3]\n",
       "2 : [1, 3]\n",
       "3 : [2, 4, 1]\n",
       "4 : [3, 0, 1]"
      ]
     },
     "execution_count": 5,
     "metadata": {},
     "output_type": "execute_result"
    }
   ],
   "source": [
    "g1 =Graph(num_nodes1, edges1)\n",
    "g1\n",
    "# g1.bfs(3)"
   ]
  },
  {
   "cell_type": "code",
   "execution_count": 31,
   "metadata": {},
   "outputs": [
    {
     "data": {
      "text/plain": [
       "[0, 1, 4, 2, 3]"
      ]
     },
     "execution_count": 31,
     "metadata": {},
     "output_type": "execute_result"
    }
   ],
   "source": [
    "g1.dfs(0)"
   ]
  },
  {
   "cell_type": "code",
   "execution_count": 10,
   "metadata": {},
   "outputs": [],
   "source": [
    "num_nodes1 = 6\n",
    "edges1 = [('A', 'B', 2),\n",
    " ('A', 'C', 4),\n",
    " ('B', 'A', 2),\n",
    " ('B', 'C', 3),\n",
    " ('B', 'D', 8),\n",
    " ('C', 'A', 4),\n",
    " ('C', 'B', 3),\n",
    " ('C', 'E', 5),\n",
    " ('C', 'D', 2),\n",
    " ('D', 'B', 8),\n",
    " ('D', 'C', 2),\n",
    " ('D', 'E', 11),\n",
    " ('D', 'F', 22),\n",
    " ('E', 'C', 5),\n",
    " ('E', 'D', 11),\n",
    " ('E', 'F', 1),\n",
    " ('F', 'D', 22),\n",
    " ('F', 'E', 1)]"
   ]
  },
  {
   "cell_type": "code",
   "execution_count": 13,
   "metadata": {},
   "outputs": [],
   "source": [
    "class Graph:\n",
    "    def __init__(self, N, edges) -> None:\n",
    "        self.data = {i:{} for i in ['A', 'B', 'C', 'D', 'E', 'F']}\n",
    "        for i, v, w in edges:\n",
    "            self.data[i].update({v:w})\n",
    "            # self.data[v].append(i)\n"
   ]
  },
  {
   "cell_type": "code",
   "execution_count": 14,
   "metadata": {},
   "outputs": [
    {
     "data": {
      "text/plain": [
       "{'A': {'B': 2, 'C': 4},\n",
       " 'B': {'A': 2, 'C': 3, 'D': 8},\n",
       " 'C': {'A': 4, 'B': 3, 'E': 5, 'D': 2},\n",
       " 'D': {'B': 8, 'C': 2, 'E': 11, 'F': 22},\n",
       " 'E': {'C': 5, 'D': 11, 'F': 1},\n",
       " 'F': {'D': 22, 'E': 1}}"
      ]
     },
     "execution_count": 14,
     "metadata": {},
     "output_type": "execute_result"
    }
   ],
   "source": [
    "gg = Graph(num_nodes1, edges1)\n",
    "gg.data"
   ]
  },
  {
   "cell_type": "code",
   "execution_count": null,
   "metadata": {},
   "outputs": [],
   "source": []
  }
 ],
 "metadata": {
  "kernelspec": {
   "display_name": "Python 3",
   "language": "python",
   "name": "python3"
  },
  "language_info": {
   "codemirror_mode": {
    "name": "ipython",
    "version": 3
   },
   "file_extension": ".py",
   "mimetype": "text/x-python",
   "name": "python",
   "nbconvert_exporter": "python",
   "pygments_lexer": "ipython3",
   "version": "3.11.9"
  }
 },
 "nbformat": 4,
 "nbformat_minor": 2
}
