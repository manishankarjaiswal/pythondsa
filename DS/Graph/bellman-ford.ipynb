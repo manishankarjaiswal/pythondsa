{
 "cells": [
  {
   "cell_type": "code",
   "execution_count": 11,
   "metadata": {},
   "outputs": [],
   "source": [
    "# Python3 program for Bellman-Ford's single source\n",
    "# shortest path algorithm.\n",
    "\n",
    "# Class to represent a graph\n",
    "\n",
    "class Graph:\n",
    "\n",
    "    def __init__(self, vertices, edges):\n",
    "        self.V = vertices  # No. of vertices\n",
    "        self.graph = edges\n",
    "\n",
    "    # function to add an edge to graph\n",
    "    def addEdge(self, u, v, w):\n",
    "        self.graph.append([u, v, w])\n",
    "\n",
    "    # utility function used to print the solution\n",
    "    def printArr(self, dist):\n",
    "        print(\"Vertex Distance from Source\")\n",
    "        for i in range(self.V):\n",
    "            print(\"{0}\\t\\t{1}\".format(i, dist[i]))\n",
    "\n",
    "    # The main function that finds shortest distances from src to\n",
    "    # all other vertices using Bellman-Ford algorithm. The function\n",
    "    # also detects negative weight cycle\n",
    "    def BellmanFord(self, src):\n",
    "\n",
    "        # Step 1: Initialize distances from src to all other vertices\n",
    "        # as INFINITE\n",
    "        # dist = [float(\"Inf\")] * self.V\n",
    "        dist = {k:float(\"Inf\") for k in range(self.V)}\n",
    "        dist[src] = 0\n",
    "\n",
    "        # Step 2: Relax all edges |V| - 1 times. A simple shortest\n",
    "        # path from src to any other vertex can have at-most |V| - 1\n",
    "        # edges\n",
    "        for _ in range(self.V - 1):\n",
    "            # Update dist value and parent index of the adjacent vertices of\n",
    "            # the picked vertex. Consider only those vertices which are still in\n",
    "            # queue\n",
    "            for u, v, w in self.graph:\n",
    "                if dist[u] != float(\"Inf\") and dist[u] + w < dist[v]:\n",
    "                    dist[v] = dist[u] + w\n",
    "\n",
    "        # Step 3: check for negative-weight cycles. The above step\n",
    "        # guarantees shortest distances if graph doesn't contain\n",
    "        # negative weight cycle. If we get a shorter path, then there\n",
    "        # is a cycle.\n",
    "\n",
    "        for u, v, w in self.graph:\n",
    "            if dist[u] != float(\"Inf\") and dist[u] + w < dist[v]:\n",
    "                print(\"Graph contains negative weight cycle\")\n",
    "                return\n",
    "\n",
    "        # print all distance\n",
    "        print(dist)\n",
    "        self.printArr(dist)\n",
    "\n",
    "\n",
    "# Driver's code\n",
    "# if __name__ == '__main__':\n",
    "#     g = Graph(5)\n",
    "#     g.addEdge(0, 1, -1)\n",
    "#     g.addEdge(0, 2, 4)\n",
    "#     g.addEdge(1, 2, 3)\n",
    "#     g.addEdge(1, 3, 2)\n",
    "#     g.addEdge(1, 4, 2)\n",
    "#     g.addEdge(3, 2, 5)\n",
    "#     g.addEdge(3, 1, 1)\n",
    "#     g.addEdge(4, 3, -3)\n",
    "\n",
    "#     # function call\n",
    "#     g.BellmanFord(0)\n",
    "\n",
    "# Initially, Contributed by Neelam Yadav\n",
    "# Later On, Edited by Himanshu Garg\n"
   ]
  },
  {
   "cell_type": "code",
   "execution_count": 12,
   "metadata": {},
   "outputs": [
    {
     "name": "stdout",
     "output_type": "stream",
     "text": [
      "{0: 0, 1: 2, 2: 4, 3: 6, 4: 9, 5: 10}\n",
      "Vertex Distance from Source\n",
      "0\t\t0\n",
      "1\t\t2\n",
      "2\t\t4\n",
      "3\t\t6\n",
      "4\t\t9\n",
      "5\t\t10\n"
     ]
    }
   ],
   "source": [
    "edges = [(0, 1, 2),\n",
    " (0, 2, 4),\n",
    " (1, 0, 2),\n",
    " (1, 2, 3),\n",
    " (1, 3, 8),\n",
    " (2, 0, 4),\n",
    " (2, 1, 3),\n",
    " (2, 4, 5),\n",
    " (2, 3, 2),\n",
    " (3, 1, 8),\n",
    " (3, 2, 2),\n",
    " (3, 4, 11),\n",
    " (3, 5, 22),\n",
    " (4, 2, 5),\n",
    " (4, 3, 11),\n",
    " (4, 5, 1),\n",
    " (5, 3, 22),\n",
    " (5, 4, 1)]\n",
    "\n",
    "g = Graph(6, edges)\n",
    "g.BellmanFord(0)"
   ]
  },
  {
   "cell_type": "code",
   "execution_count": 13,
   "metadata": {},
   "outputs": [],
   "source": [
    "def practice(edges, n, src):\n",
    "    dist = {i:float('inf') for i in range(n)}\n",
    "    dist[src] = 0\n",
    "    for _ in range(n-1):\n",
    "        for u,v,w in edges:\n",
    "            if dist[u] != float('inf') and dist[u]+w<dist[v]:\n",
    "                dist[v] = dist[u]+w\n",
    "    for u, v, w in edges:\n",
    "        if dist[u] != float('inf') and dist[u]+w<dist[v]:\n",
    "            print(\"Graph contains negative weight cycle\")\n",
    "            return\n",
    "    print(dist)"
   ]
  },
  {
   "cell_type": "code",
   "execution_count": 14,
   "metadata": {},
   "outputs": [
    {
     "name": "stdout",
     "output_type": "stream",
     "text": [
      "{0: 0, 1: 2, 2: 4, 3: 6, 4: 9, 5: 10}\n"
     ]
    }
   ],
   "source": [
    "practice(edges, 6, 0)"
   ]
  },
  {
   "cell_type": "code",
   "execution_count": null,
   "metadata": {},
   "outputs": [],
   "source": []
  }
 ],
 "metadata": {
  "kernelspec": {
   "display_name": "Python 3",
   "language": "python",
   "name": "python3"
  },
  "language_info": {
   "codemirror_mode": {
    "name": "ipython",
    "version": 3
   },
   "file_extension": ".py",
   "mimetype": "text/x-python",
   "name": "python",
   "nbconvert_exporter": "python",
   "pygments_lexer": "ipython3",
   "version": "3.11.9"
  }
 },
 "nbformat": 4,
 "nbformat_minor": 2
}
