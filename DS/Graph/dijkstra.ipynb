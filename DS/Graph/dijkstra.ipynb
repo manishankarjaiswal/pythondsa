{
 "cells": [
  {
   "cell_type": "code",
   "execution_count": 12,
   "metadata": {},
   "outputs": [],
   "source": [
    "import sys\n",
    "from heapq import heapify, heappop, heappush"
   ]
  },
  {
   "cell_type": "markdown",
   "metadata": {},
   "source": [
    "Time Complexity: O(E * logV), Where E is the number of edges and V is the number of vertices.\n",
    "Auxiliary Space: O(V)"
   ]
  },
  {
   "cell_type": "code",
   "execution_count": 35,
   "metadata": {},
   "outputs": [],
   "source": [
    "def dijkstra(graph, src, des):\n",
    "    inf = sys.maxsize\n",
    "    node_data = {\n",
    "        'A':{'cost':inf, 'pred':[]},\n",
    "        'B':{'cost':inf, 'pred':[]},\n",
    "        'C':{'cost':inf, 'pred':[]},\n",
    "        'D':{'cost':inf, 'pred':[]},\n",
    "        'E':{'cost':inf, 'pred':[]},\n",
    "        'F':{'cost':inf, 'pred':[]}\n",
    "    }\n",
    "    node_data[src]['cost'] = 0\n",
    "    visited = []\n",
    "    temp = src\n",
    "    for i in range(len(graph)-1):\n",
    "        if temp not in visited:\n",
    "            visited.append(temp)\n",
    "            min_heap = []\n",
    "            for j in graph[temp]:\n",
    "                if j not in visited:\n",
    "                    cost = node_data[temp]['cost']+graph[temp][j]\n",
    "                    if cost < node_data[j]['cost']:\n",
    "                        node_data[j]['cost'] = cost\n",
    "                        node_data[j]['pred'] = node_data[temp]['pred'] + list(temp)\n",
    "                    heappush(min_heap, (node_data[j]['cost'], j))\n",
    "        heapify(min_heap)\n",
    "        temp = min_heap[0][1]\n",
    "    print(\"Shortest Distance \", node_data[des]['cost'])\n",
    "    print(\"Shortest Path \", node_data[des]['pred']+list(des))\n",
    "\n",
    "    pass"
   ]
  },
  {
   "cell_type": "code",
   "execution_count": 32,
   "metadata": {},
   "outputs": [],
   "source": [
    "def practice(graph, src, des):\n",
    "    inf = sys.maxsize\n",
    "    node = {\n",
    "        'A':{'cost':inf, 'pred':[]},\n",
    "        'B':{'cost':inf, 'pred':[]},\n",
    "        'C':{'cost':inf, 'pred':[]},\n",
    "        'D':{'cost':inf, 'pred':[]},\n",
    "        'E':{'cost':inf, 'pred':[]},\n",
    "        'F':{'cost':inf, 'pred':[]}\n",
    "    }\n",
    "    node[src]['cost']=0\n",
    "    temp = src\n",
    "    visited = []\n",
    "    for _ in range(len(graph)-1):\n",
    "        if temp not in visited:\n",
    "            visited.append(temp)\n",
    "            min_heap = []\n",
    "            for j in graph[temp]:                \n",
    "                if j not in visited:\n",
    "                    cost = node[temp]['cost']+graph[temp][j]\n",
    "                    if cost<node[j]['cost']:\n",
    "                         node[j]['cost'] = cost\n",
    "                         node[j]['pred'] = node[temp]['pred']+list(temp)\n",
    "                    heappush(min_heap, (node[j]['cost'], j))\n",
    "        heapify(min_heap)\n",
    "        temp = min_heap[0][1]\n",
    "    print(\"Shortest Distance \", node[des]['cost'])\n",
    "    print(\"Shortest Path \", node[des]['pred']+list(des))\n",
    "    print(node)"
   ]
  },
  {
   "cell_type": "code",
   "execution_count": 33,
   "metadata": {},
   "outputs": [
    {
     "name": "stdout",
     "output_type": "stream",
     "text": [
      "Shortest Distance  9\n",
      "Shortest Path  ['A', 'C', 'E']\n"
     ]
    }
   ],
   "source": [
    "graph = {\n",
    "    'A':{'B':2, 'C':4},\n",
    "    'B':{'A':2, 'C':3, 'D':8},\n",
    "    'C':{'A':4, 'B':3, 'E':5, 'D':2},\n",
    "    'D':{'B':8, 'C':2, 'E':11, 'F':22},\n",
    "    'E':{'C':5, 'D':11, 'F':1},\n",
    "    'F':{'D':22, 'E':1}\n",
    "}\n",
    "source = 'A'\n",
    "destination = 'E'\n",
    "dijkstra(graph, source, destination)"
   ]
  },
  {
   "cell_type": "code",
   "execution_count": 34,
   "metadata": {},
   "outputs": [
    {
     "name": "stdout",
     "output_type": "stream",
     "text": [
      "Shortest Distance  9\n",
      "Shortest Path  ['A', 'C', 'E']\n",
      "{'A': {'cost': 0, 'pred': []}, 'B': {'cost': 2, 'pred': ['A']}, 'C': {'cost': 4, 'pred': ['A']}, 'D': {'cost': 6, 'pred': ['A', 'C']}, 'E': {'cost': 9, 'pred': ['A', 'C']}, 'F': {'cost': 10, 'pred': ['A', 'C', 'E']}}\n"
     ]
    }
   ],
   "source": [
    "practice(graph, source, destination)"
   ]
  },
  {
   "cell_type": "code",
   "execution_count": 30,
   "metadata": {},
   "outputs": [],
   "source": [
    "edges = []\n",
    "for k, v in graph.items():\n",
    "    for i, j in graph[k].items():\n",
    "        edges.append((k, i, j))"
   ]
  },
  {
   "cell_type": "code",
   "execution_count": 31,
   "metadata": {},
   "outputs": [
    {
     "data": {
      "text/plain": [
       "[('A', 'B', 2),\n",
       " ('A', 'C', 4),\n",
       " ('B', 'A', 2),\n",
       " ('B', 'C', 3),\n",
       " ('B', 'D', 8),\n",
       " ('C', 'A', 4),\n",
       " ('C', 'B', 3),\n",
       " ('C', 'E', 5),\n",
       " ('C', 'D', 2),\n",
       " ('D', 'B', 8),\n",
       " ('D', 'C', 2),\n",
       " ('D', 'E', 11),\n",
       " ('D', 'F', 22),\n",
       " ('E', 'C', 5),\n",
       " ('E', 'D', 11),\n",
       " ('E', 'F', 1),\n",
       " ('F', 'D', 22),\n",
       " ('F', 'E', 1)]"
      ]
     },
     "execution_count": 31,
     "metadata": {},
     "output_type": "execute_result"
    }
   ],
   "source": [
    "edges"
   ]
  },
  {
   "cell_type": "code",
   "execution_count": null,
   "metadata": {},
   "outputs": [],
   "source": []
  }
 ],
 "metadata": {
  "kernelspec": {
   "display_name": "Python 3",
   "language": "python",
   "name": "python3"
  },
  "language_info": {
   "codemirror_mode": {
    "name": "ipython",
    "version": 3
   },
   "file_extension": ".py",
   "mimetype": "text/x-python",
   "name": "python",
   "nbconvert_exporter": "python",
   "pygments_lexer": "ipython3",
   "version": "3.11.9"
  }
 },
 "nbformat": 4,
 "nbformat_minor": 2
}
