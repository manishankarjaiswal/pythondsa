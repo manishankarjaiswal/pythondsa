{
 "cells": [
  {
   "cell_type": "markdown",
   "id": "6aeb80cb",
   "metadata": {},
   "source": [
    "Binary Search Trees, Traversals and Balancing in Python"
   ]
  },
  {
   "cell_type": "markdown",
   "id": "09c36882",
   "metadata": {},
   "source": [
    "Implement the solution and test it using example inputs."
   ]
  },
  {
   "cell_type": "code",
   "execution_count": 6,
   "id": "4e253e2e",
   "metadata": {},
   "outputs": [],
   "source": [
    "class User:\n",
    "    def __init__(self, username, name, email):\n",
    "        self.username = username\n",
    "        self.name = name\n",
    "        self.email = email\n",
    "        \n",
    "    def __repr__(self):\n",
    "        return \"User(username='{}', name='{}', email='{}')\".format(self.username, self.name, self.email)\n",
    "    \n",
    "    def __str__(self):\n",
    "        return self.__repr__()"
   ]
  },
  {
   "cell_type": "code",
   "execution_count": 7,
   "id": "42f582e3",
   "metadata": {},
   "outputs": [],
   "source": [
    "aakash = User('aakash', 'Aakash Rai', 'aakash@example.com')\n",
    "biraj = User('biraj', 'Biraj Das', 'biraj@example.com')\n",
    "hemanth = User('hemanth', 'Hemanth Jain', 'hemanth@example.com')\n",
    "jadhesh = User('jadhesh', 'Jadhesh Verma', 'jadhesh@example.com')\n",
    "siddhant = User('siddhant', 'Siddhant Sinha', 'siddhant@example.com')\n",
    "sonaksh = User('sonaksh', 'Sonaksh Kumar', 'sonaksh@example.com')\n",
    "vishal = User('vishal', 'Vishal Goel', 'vishal@example.com')"
   ]
  },
  {
   "cell_type": "code",
   "execution_count": 29,
   "id": "78a2840a",
   "metadata": {},
   "outputs": [],
   "source": [
    "class UserDatabase:\n",
    "    def __init__(self):\n",
    "        self.users = []\n",
    "    \n",
    "    def insert(self, user):\n",
    "        i = 0\n",
    "        while i < len(self.users):\n",
    "            # Find the first username greater than the new user's username\n",
    "            if self.users[i].username > user.username:\n",
    "                break\n",
    "            i += 1\n",
    "        self.users.insert(i, user)\n",
    "    \n",
    "    def find(self, username):\n",
    "        for user in self.users:\n",
    "            if user.username == username:\n",
    "                return user\n",
    "    \n",
    "    def update(self, user):\n",
    "        target = self.find(user.username)\n",
    "        target.name, target.email = user.name, user.email\n",
    "    \n",
    "    def remove(self, username):\n",
    "        target = self.find(username)\n",
    "        if target:\n",
    "            self.users.remove(target)\n",
    "        \n",
    "    def list_all(self):\n",
    "        return self.users\n",
    "        "
   ]
  },
  {
   "cell_type": "code",
   "execution_count": 30,
   "id": "c1394a95",
   "metadata": {},
   "outputs": [],
   "source": [
    "database = UserDatabase()"
   ]
  },
  {
   "cell_type": "code",
   "execution_count": 31,
   "id": "69ddb43e",
   "metadata": {},
   "outputs": [],
   "source": [
    "database.insert(hemanth)\n",
    "database.insert(aakash)\n",
    "database.insert(siddhant)"
   ]
  },
  {
   "cell_type": "code",
   "execution_count": 32,
   "id": "abd94070",
   "metadata": {},
   "outputs": [
    {
     "data": {
      "text/plain": [
       "User(username='siddhant', name='Siddhant U', email='siddhantu@example.com')"
      ]
     },
     "execution_count": 32,
     "metadata": {},
     "output_type": "execute_result"
    }
   ],
   "source": [
    "user = database.find('siddhant')\n",
    "user"
   ]
  },
  {
   "cell_type": "code",
   "execution_count": 33,
   "id": "43141930",
   "metadata": {},
   "outputs": [],
   "source": [
    "database.update(User(username='siddhant', name='Siddhant U', email='siddhantu@example.com'))"
   ]
  },
  {
   "cell_type": "code",
   "execution_count": 34,
   "id": "f4db7253",
   "metadata": {},
   "outputs": [
    {
     "data": {
      "text/plain": [
       "User(username='siddhant', name='Siddhant U', email='siddhantu@example.com')"
      ]
     },
     "execution_count": 34,
     "metadata": {},
     "output_type": "execute_result"
    }
   ],
   "source": [
    "user = database.find('siddhant')\n",
    "user"
   ]
  },
  {
   "cell_type": "code",
   "execution_count": 35,
   "id": "7fdbd3e9",
   "metadata": {},
   "outputs": [
    {
     "data": {
      "text/plain": [
       "[User(username='aakash', name='Aakash Rai', email='aakash@example.com'),\n",
       " User(username='hemanth', name='Hemanth Jain', email='hemanth@example.com'),\n",
       " User(username='siddhant', name='Siddhant U', email='siddhantu@example.com')]"
      ]
     },
     "execution_count": 35,
     "metadata": {},
     "output_type": "execute_result"
    }
   ],
   "source": [
    "database.list_all()"
   ]
  },
  {
   "cell_type": "code",
   "execution_count": 36,
   "id": "3e1258f8",
   "metadata": {},
   "outputs": [],
   "source": [
    "database.insert(biraj)"
   ]
  },
  {
   "cell_type": "code",
   "execution_count": 37,
   "id": "ca9d0926",
   "metadata": {},
   "outputs": [
    {
     "data": {
      "text/plain": [
       "[User(username='aakash', name='Aakash Rai', email='aakash@example.com'),\n",
       " User(username='biraj', name='Biraj Das', email='biraj@example.com'),\n",
       " User(username='hemanth', name='Hemanth Jain', email='hemanth@example.com'),\n",
       " User(username='siddhant', name='Siddhant U', email='siddhantu@example.com')]"
      ]
     },
     "execution_count": 37,
     "metadata": {},
     "output_type": "execute_result"
    }
   ],
   "source": [
    "database.list_all()"
   ]
  },
  {
   "cell_type": "code",
   "execution_count": 38,
   "id": "65e4b17c",
   "metadata": {},
   "outputs": [],
   "source": [
    "database.remove('siddhant')"
   ]
  },
  {
   "cell_type": "code",
   "execution_count": 39,
   "id": "96aa8971",
   "metadata": {},
   "outputs": [
    {
     "data": {
      "text/plain": [
       "[User(username='aakash', name='Aakash Rai', email='aakash@example.com'),\n",
       " User(username='biraj', name='Biraj Das', email='biraj@example.com'),\n",
       " User(username='hemanth', name='Hemanth Jain', email='hemanth@example.com')]"
      ]
     },
     "execution_count": 39,
     "metadata": {},
     "output_type": "execute_result"
    }
   ],
   "source": [
    "database.list_all()"
   ]
  },
  {
   "cell_type": "code",
   "execution_count": 64,
   "id": "1214986e",
   "metadata": {},
   "outputs": [],
   "source": [
    "class TreeNode():\n",
    "    def __init__(self, key):\n",
    "        self.key, self.left, self.right = key, None, None\n",
    "    \n",
    "    def height(self):\n",
    "        if self is None:\n",
    "            return 0\n",
    "        return 1 + max(TreeNode.height(self.left), TreeNode.height(self.right))\n",
    "    \n",
    "    def size(self):\n",
    "        if self is None:\n",
    "            return 0\n",
    "        return 1 + TreeNode.size(self.left) + TreeNode.size(self.right)\n",
    "\n",
    "    def traverse_in_order(self):\n",
    "        if self is None: \n",
    "            return []\n",
    "        return (TreeNode.traverse_in_order(self.left) + \n",
    "                [self.key] + \n",
    "                TreeNode.traverse_in_order(self.right))\n",
    "    \n",
    "    def traverse_pre_order(self):\n",
    "        if self is None: \n",
    "            return []\n",
    "        return ([self.key] + TreeNode.traverse_in_order(self.left) + \n",
    "                TreeNode.traverse_in_order(self.right))\n",
    "    \n",
    "    def traverse_post_order(self):\n",
    "        if self is None: \n",
    "            return []\n",
    "        return (TreeNode.traverse_in_order(self.left) + \n",
    "                TreeNode.traverse_in_order(self.right) + [self.key])\n",
    "    \n",
    "    def display_keys(self, space='\\t', level=0):\n",
    "        # If the node is empty\n",
    "        if self is None:\n",
    "            print(space*level + '∅')\n",
    "            return   \n",
    "\n",
    "        # If the node is a leaf \n",
    "        if self.left is None and self.right is None:\n",
    "            print(space*level + str(self.key))\n",
    "            return\n",
    "\n",
    "        # If the node has children\n",
    "        TreeNode.display_keys(self.right, space, level+1)\n",
    "        print(space*level + str(self.key))\n",
    "        TreeNode.display_keys(self.left,space, level+1)    \n",
    "    \n",
    "    def to_tuple(self):\n",
    "        if self is None:\n",
    "            return None\n",
    "        if self.left is None and self.right is None:\n",
    "            return self.key\n",
    "        return TreeNode.to_tuple(self.left),  self.key, TreeNode.to_tuple(self.right)\n",
    "    \n",
    "    def __str__(self):\n",
    "        return \"BinaryTree <{}>\".format(self.to_tuple())\n",
    "    \n",
    "    def __repr__(self):\n",
    "        return \"BinaryTree <{}>\".format(self.to_tuple())\n",
    "    \n",
    "    @staticmethod       \n",
    "    def parse_tuple(data):\n",
    "        if data is None:\n",
    "            node = None\n",
    "        elif isinstance(data, tuple) and len(data) == 3:\n",
    "            node = TreeNode(data[1])\n",
    "            node.left = TreeNode.parse_tuple(data[0])\n",
    "            node.right = TreeNode.parse_tuple(data[2])\n",
    "        else:\n",
    "            node = TreeNode(data)\n",
    "        return node\n",
    "    \n",
    "    @staticmethod\n",
    "    def insert(node, key):\n",
    "        if node is None:\n",
    "            node = TreeNode(key)\n",
    "        elif key < node.key:\n",
    "            node.left = TreeNode.insert(node.left, key)\n",
    "        elif key > node.key:\n",
    "            node.right = TreeNode.insert(node.right, key)\n",
    "        return node\n",
    "    \n",
    "    @staticmethod\n",
    "    def find(node, key):\n",
    "        if node is None:\n",
    "            return None\n",
    "        elif key == node.key:\n",
    "            return node\n",
    "        elif key < node.key:\n",
    "            return TreeNode.find(node.left, key)\n",
    "        elif key > node.key:\n",
    "            return TreeNode.find(node.right, key)\n",
    "        \n",
    "    def is_balanced(self):\n",
    "        if self is None:\n",
    "            return True, 0\n",
    "        balanced_l, height_l = TreeNode.is_balanced(self.left)\n",
    "        balanced_r, height_r = TreeNode.is_balanced(self.right)\n",
    "        balanced = balanced_l and balanced_r and abs(height_l - height_r) <=1\n",
    "        height = 1 + max(height_l, height_r)\n",
    "        return balanced, height\n",
    "    \n",
    "    def list_all(self):\n",
    "        if self is None:\n",
    "            return []\n",
    "        return TreeNode.list_all(self.left) + [(self.key)] + TreeNode.list_all(self.right)\n",
    "    \n",
    "    @staticmethod\n",
    "    def make_balanced_bst(data, lo=0, hi=None):\n",
    "        if hi is None:\n",
    "            hi = len(data) - 1\n",
    "        if lo > hi:\n",
    "            return None\n",
    "        \n",
    "        mid = (lo + hi) // 2\n",
    "        key = data[mid]\n",
    "\n",
    "        root = TreeNode(key)\n",
    "        root.left = TreeNode.make_balanced_bst(data, lo, mid-1)\n",
    "        root.right = TreeNode.make_balanced_bst(data, mid+1, hi)\n",
    "        \n",
    "        return root\n",
    "    "
   ]
  },
  {
   "cell_type": "code",
   "execution_count": 65,
   "id": "9c2ce7ef",
   "metadata": {},
   "outputs": [],
   "source": [
    "tree_tuple = (1, 2, ((None, 3, 4), 5, (6, 7, 8)))\n"
   ]
  },
  {
   "cell_type": "code",
   "execution_count": 66,
   "id": "77ea979e",
   "metadata": {},
   "outputs": [
    {
     "data": {
      "text/plain": [
       "BinaryTree <(1, 2, ((None, 3, 4), 5, (6, 7, 8)))>"
      ]
     },
     "execution_count": 66,
     "metadata": {},
     "output_type": "execute_result"
    }
   ],
   "source": [
    "tree = TreeNode.parse_tuple(tree_tuple)\n",
    "tree"
   ]
  },
  {
   "cell_type": "code",
   "execution_count": 70,
   "id": "d8b17409",
   "metadata": {},
   "outputs": [
    {
     "name": "stdout",
     "output_type": "stream",
     "text": [
      "        9\n",
      "      8\n",
      "        ∅\n",
      "    7\n",
      "      6\n",
      "  5\n",
      "      4\n",
      "    3\n",
      "      ∅\n",
      "2\n",
      "  1\n"
     ]
    }
   ],
   "source": [
    "tree.display_keys('  ')"
   ]
  },
  {
   "cell_type": "code",
   "execution_count": 71,
   "id": "8bcea379",
   "metadata": {},
   "outputs": [
    {
     "data": {
      "text/plain": [
       "(1, 2, ((None, 3, 4), 5, (6, 7, (None, 8, 9))))"
      ]
     },
     "execution_count": 71,
     "metadata": {},
     "output_type": "execute_result"
    }
   ],
   "source": [
    "tree.to_tuple()"
   ]
  },
  {
   "cell_type": "code",
   "execution_count": 72,
   "id": "ccf7781e",
   "metadata": {},
   "outputs": [
    {
     "data": {
      "text/plain": [
       "5"
      ]
     },
     "execution_count": 72,
     "metadata": {},
     "output_type": "execute_result"
    }
   ],
   "source": [
    "TreeNode(5).to_tuple()"
   ]
  },
  {
   "cell_type": "code",
   "execution_count": 73,
   "id": "edaecf0d",
   "metadata": {},
   "outputs": [
    {
     "name": "stdout",
     "output_type": "stream",
     "text": [
      "        9\n",
      "      8\n",
      "        ∅\n",
      "    7\n",
      "      6\n",
      "  5\n",
      "      4\n",
      "    3\n",
      "      ∅\n",
      "2\n",
      "  1\n"
     ]
    }
   ],
   "source": [
    "TreeNode.insert(tree, 9).display_keys('  ')"
   ]
  },
  {
   "cell_type": "code",
   "execution_count": 74,
   "id": "55032e50",
   "metadata": {},
   "outputs": [],
   "source": [
    "TreeNode.find(tree, 10)"
   ]
  },
  {
   "cell_type": "code",
   "execution_count": 75,
   "id": "e6106371",
   "metadata": {},
   "outputs": [
    {
     "data": {
      "text/plain": [
       "(False, 5)"
      ]
     },
     "execution_count": 75,
     "metadata": {},
     "output_type": "execute_result"
    }
   ],
   "source": [
    "tree.is_balanced()"
   ]
  },
  {
   "cell_type": "code",
   "execution_count": 76,
   "id": "af0cdd2b",
   "metadata": {},
   "outputs": [
    {
     "data": {
      "text/plain": [
       "5"
      ]
     },
     "execution_count": 76,
     "metadata": {},
     "output_type": "execute_result"
    }
   ],
   "source": [
    "tree.height()"
   ]
  },
  {
   "cell_type": "code",
   "execution_count": 77,
   "id": "66192381",
   "metadata": {},
   "outputs": [
    {
     "data": {
      "text/plain": [
       "[1, 2, 3, 4, 5, 6, 7, 8, 9]"
      ]
     },
     "execution_count": 77,
     "metadata": {},
     "output_type": "execute_result"
    }
   ],
   "source": [
    "tree.list_all()"
   ]
  },
  {
   "cell_type": "code",
   "execution_count": 78,
   "id": "0cb31055",
   "metadata": {},
   "outputs": [
    {
     "data": {
      "text/plain": [
       "BinaryTree <((1, 2, (None, 3, 4)), 5, (6, 7, (None, 8, 9)))>"
      ]
     },
     "execution_count": 78,
     "metadata": {},
     "output_type": "execute_result"
    }
   ],
   "source": [
    "TreeNode.make_balanced_bst(tree.list_all())"
   ]
  },
  {
   "cell_type": "code",
   "execution_count": 80,
   "id": "f3a028a4",
   "metadata": {},
   "outputs": [
    {
     "data": {
      "text/plain": [
       "([1, 3, 4, 5, 6, 7, 8, 9, 2],\n",
       " [2, 1, 3, 4, 5, 6, 7, 8, 9],\n",
       " [1, 2, 3, 4, 5, 6, 7, 8, 9])"
      ]
     },
     "execution_count": 80,
     "metadata": {},
     "output_type": "execute_result"
    }
   ],
   "source": [
    "tree.traverse_post_order(), tree.traverse_pre_order(), tree.traverse_in_order() "
   ]
  },
  {
   "cell_type": "code",
   "execution_count": null,
   "id": "a72fb22f",
   "metadata": {},
   "outputs": [],
   "source": []
  }
 ],
 "metadata": {
  "kernelspec": {
   "display_name": "Python 3 (ipykernel)",
   "language": "python",
   "name": "python3"
  },
  "language_info": {
   "codemirror_mode": {
    "name": "ipython",
    "version": 3
   },
   "file_extension": ".py",
   "mimetype": "text/x-python",
   "name": "python",
   "nbconvert_exporter": "python",
   "pygments_lexer": "ipython3",
   "version": "3.11.9"
  }
 },
 "nbformat": 4,
 "nbformat_minor": 5
}
