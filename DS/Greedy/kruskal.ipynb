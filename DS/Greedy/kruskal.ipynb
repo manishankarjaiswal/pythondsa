{
 "cells": [
  {
   "cell_type": "code",
   "execution_count": 2,
   "metadata": {},
   "outputs": [],
   "source": [
    "edges = [\n",
    "    (1,2,1),\n",
    "    (3,4,1),\n",
    "    (3,6,2),\n",
    "    (6,7,2),\n",
    "    (1,3,3),\n",
    "    (6,5,6),\n",
    "    (7,5,7),\n",
    "    (4,5,5),\n",
    "    (2,6,4)\n",
    "]\n",
    "\n",
    "n = 7"
   ]
  },
  {
   "cell_type": "code",
   "execution_count": 3,
   "metadata": {},
   "outputs": [],
   "source": [
    "def find(graph, node):\n",
    "    if graph[node]<0:\n",
    "        return node\n",
    "    else:\n",
    "        return find(graph, graph[node])\n",
    "    \n",
    "def union(graph, a, b):\n",
    "    ta = a\n",
    "    tb = b\n",
    "    a = find(graph, a)\n",
    "    b = find(graph, b)\n",
    "    if a == b:\n",
    "        pass\n",
    "    else:\n",
    "        print(ta, tb)\n",
    "        if graph[a]<graph[b]:\n",
    "            graph[a] = graph[a]+graph[b]\n",
    "            graph[b] = a\n",
    "        else:\n",
    "            graph[b] = graph[b]+graph[a]\n",
    "            graph[a] = b\n"
   ]
  },
  {
   "cell_type": "code",
   "execution_count": 6,
   "metadata": {},
   "outputs": [
    {
     "name": "stdout",
     "output_type": "stream",
     "text": [
      "1 2\n",
      "3 4\n",
      "3 6\n",
      "6 7\n",
      "1 3\n",
      "4 5\n"
     ]
    }
   ],
   "source": [
    "graph = [-1]*(n+1)\n",
    "edges.sort(key=lambda x:x[2])\n",
    "for u, v, d in edges:\n",
    "    union(graph, u, v)"
   ]
  },
  {
   "cell_type": "code",
   "execution_count": null,
   "metadata": {},
   "outputs": [],
   "source": []
  }
 ],
 "metadata": {
  "kernelspec": {
   "display_name": "Python 3",
   "language": "python",
   "name": "python3"
  },
  "language_info": {
   "codemirror_mode": {
    "name": "ipython",
    "version": 3
   },
   "file_extension": ".py",
   "mimetype": "text/x-python",
   "name": "python",
   "nbconvert_exporter": "python",
   "pygments_lexer": "ipython3",
   "version": "3.11.9"
  }
 },
 "nbformat": 4,
 "nbformat_minor": 2
}
