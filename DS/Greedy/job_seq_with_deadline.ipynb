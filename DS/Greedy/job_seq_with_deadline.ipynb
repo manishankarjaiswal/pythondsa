{
 "cells": [
  {
   "cell_type": "code",
   "execution_count": 35,
   "metadata": {},
   "outputs": [],
   "source": [
    "jobs = [\n",
    "    ('j1', 35, 3),\n",
    "    ('j2', 30, 4),\n",
    "    ('j3', 25, 4),\n",
    "    ('j4', 20, 2),\n",
    "    ('j5', 15, 3),\n",
    "    ('j6', 12, 1),\n",
    "    ('j7', 5, 2),\n",
    "]"
   ]
  },
  {
   "cell_type": "code",
   "execution_count": 44,
   "metadata": {},
   "outputs": [],
   "source": [
    "def max_profit(arr):\n",
    "    arr.sort(key=lambda x:x[1], reverse=True)\n",
    "    D = max([x[2] for x in jobs])\n",
    "    slots = [0 for _ in range(D)]\n",
    "    max_profit = 0\n",
    "    count = 0\n",
    "    for job, p, d in arr:\n",
    "        if count<D:\n",
    "            if slots[d-1] == 0:\n",
    "                max_profit+=p\n",
    "                slots[d-1] = job\n",
    "                count+=1\n",
    "            else:\n",
    "                d = d-1\n",
    "                while d-1>=0:\n",
    "                    d = d-1\n",
    "                    if slots[d]==0:\n",
    "                        max_profit+=p\n",
    "                        slots[d] = job\n",
    "                        count+=1\n",
    "                        break\n",
    "    print(slots)\n",
    "    return max_profit"
   ]
  },
  {
   "cell_type": "code",
   "execution_count": 45,
   "metadata": {},
   "outputs": [
    {
     "name": "stdout",
     "output_type": "stream",
     "text": [
      "['j2', 'j1', 'j4']\n"
     ]
    },
    {
     "data": {
      "text/plain": [
       "40"
      ]
     },
     "execution_count": 45,
     "metadata": {},
     "output_type": "execute_result"
    }
   ],
   "source": [
    "max_profit(jobs)"
   ]
  },
  {
   "cell_type": "code",
   "execution_count": 42,
   "metadata": {},
   "outputs": [],
   "source": [
    "jobs = [\n",
    "    ('j1', 20, 2),\n",
    "    ('j2', 15, 2),\n",
    "    ('j3', 10, 1),\n",
    "    ('j4', 5, 3),\n",
    "    ('j5', 1, 3),\n",
    "]"
   ]
  },
  {
   "cell_type": "code",
   "execution_count": 43,
   "metadata": {},
   "outputs": [
    {
     "name": "stdout",
     "output_type": "stream",
     "text": [
      "['j2', 'j1', 'j4']\n"
     ]
    },
    {
     "data": {
      "text/plain": [
       "40"
      ]
     },
     "execution_count": 43,
     "metadata": {},
     "output_type": "execute_result"
    }
   ],
   "source": [
    "max_profit(jobs)"
   ]
  },
  {
   "cell_type": "code",
   "execution_count": 8,
   "metadata": {},
   "outputs": [
    {
     "name": "stdout",
     "output_type": "stream",
     "text": [
      "5\n",
      "Class method called\n"
     ]
    },
    {
     "ename": "AttributeError",
     "evalue": "type object 'MyClass' has no attribute 'value'",
     "output_type": "error",
     "traceback": [
      "\u001b[0;31m---------------------------------------------------------------------------\u001b[0m",
      "\u001b[0;31mAttributeError\u001b[0m                            Traceback (most recent call last)",
      "Cell \u001b[0;32mIn[8], line 16\u001b[0m\n\u001b[1;32m     13\u001b[0m         \u001b[38;5;28mprint\u001b[39m(\u001b[38;5;124m\"\u001b[39m\u001b[38;5;124mAccessing instance variable through instance:\u001b[39m\u001b[38;5;124m\"\u001b[39m, \u001b[38;5;28mcls\u001b[39m\u001b[38;5;241m.\u001b[39mMani, \u001b[38;5;28mcls\u001b[39m\u001b[38;5;241m.\u001b[39mvalue)\n\u001b[1;32m     15\u001b[0m obj \u001b[38;5;241m=\u001b[39m MyClass(\u001b[38;5;241m20\u001b[39m)\n\u001b[0;32m---> 16\u001b[0m \u001b[43mobj\u001b[49m\u001b[38;5;241;43m.\u001b[39;49m\u001b[43mclass_method\u001b[49m\u001b[43m(\u001b[49m\u001b[43m)\u001b[49m\n\u001b[1;32m     17\u001b[0m obj\u001b[38;5;241m.\u001b[39minstance_method()\n",
      "Cell \u001b[0;32mIn[8], line 13\u001b[0m, in \u001b[0;36mMyClass.class_method\u001b[0;34m(cls)\u001b[0m\n\u001b[1;32m     10\u001b[0m \u001b[38;5;129m@classmethod\u001b[39m\n\u001b[1;32m     11\u001b[0m \u001b[38;5;28;01mdef\u001b[39;00m \u001b[38;5;21mclass_method\u001b[39m(\u001b[38;5;28mcls\u001b[39m):\n\u001b[1;32m     12\u001b[0m     \u001b[38;5;28mprint\u001b[39m(\u001b[38;5;124m\"\u001b[39m\u001b[38;5;124mClass method called\u001b[39m\u001b[38;5;124m\"\u001b[39m)\n\u001b[0;32m---> 13\u001b[0m     \u001b[38;5;28mprint\u001b[39m(\u001b[38;5;124m\"\u001b[39m\u001b[38;5;124mAccessing instance variable through instance:\u001b[39m\u001b[38;5;124m\"\u001b[39m, \u001b[38;5;28mcls\u001b[39m\u001b[38;5;241m.\u001b[39mMani, \u001b[38;5;28;43mcls\u001b[39;49m\u001b[38;5;241;43m.\u001b[39;49m\u001b[43mvalue\u001b[49m)\n",
      "\u001b[0;31mAttributeError\u001b[0m: type object 'MyClass' has no attribute 'value'"
     ]
    }
   ],
   "source": [
    "class MyClass:\n",
    "    Mani = 5\n",
    "    def __init__(self, value):\n",
    "        self.value = value  # instance variable\n",
    "        print(self.Mani)\n",
    "\n",
    "    def instance_method(self):\n",
    "        print(self.value, self.Mani)\n",
    "\n",
    "    @classmethod\n",
    "    def class_method(cls):\n",
    "        print(\"Class method called\")\n",
    "        print(\"Accessing instance variable through instance:\", cls.Mani, cls.value)\n",
    "\n",
    "obj = MyClass(20)\n",
    "obj.class_method()\n",
    "obj.instance_method()\n"
   ]
  },
  {
   "cell_type": "code",
   "execution_count": null,
   "metadata": {},
   "outputs": [],
   "source": []
  },
  {
   "cell_type": "code",
   "execution_count": null,
   "metadata": {},
   "outputs": [],
   "source": []
  }
 ],
 "metadata": {
  "kernelspec": {
   "display_name": "Python 3",
   "language": "python",
   "name": "python3"
  },
  "language_info": {
   "codemirror_mode": {
    "name": "ipython",
    "version": 3
   },
   "file_extension": ".py",
   "mimetype": "text/x-python",
   "name": "python",
   "nbconvert_exporter": "python",
   "pygments_lexer": "ipython3",
   "version": "3.11.9"
  }
 },
 "nbformat": 4,
 "nbformat_minor": 2
}
