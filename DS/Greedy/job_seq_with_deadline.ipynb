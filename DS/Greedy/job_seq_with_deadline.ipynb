{
 "cells": [
  {
   "cell_type": "code",
   "execution_count": 35,
   "metadata": {},
   "outputs": [],
   "source": [
    "jobs = [\n",
    "    ('j1', 35, 3),\n",
    "    ('j2', 30, 4),\n",
    "    ('j3', 25, 4),\n",
    "    ('j4', 20, 2),\n",
    "    ('j5', 15, 3),\n",
    "    ('j6', 12, 1),\n",
    "    ('j7', 5, 2),\n",
    "]"
   ]
  },
  {
   "cell_type": "code",
   "execution_count": 44,
   "metadata": {},
   "outputs": [],
   "source": [
    "def max_profit(arr):\n",
    "    arr.sort(key=lambda x:x[1], reverse=True)\n",
    "    D = max([x[2] for x in jobs])\n",
    "    slots = [0 for _ in range(D)]\n",
    "    max_profit = 0\n",
    "    count = 0\n",
    "    for job, p, d in arr:\n",
    "        if count<D:\n",
    "            if slots[d-1] == 0:\n",
    "                max_profit+=p\n",
    "                slots[d-1] = job\n",
    "                count+=1\n",
    "            else:\n",
    "                d = d-1\n",
    "                while d-1>=0:\n",
    "                    d = d-1\n",
    "                    if slots[d]==0:\n",
    "                        max_profit+=p\n",
    "                        slots[d] = job\n",
    "                        count+=1\n",
    "                        break\n",
    "    print(slots)\n",
    "    return max_profit"
   ]
  },
  {
   "cell_type": "code",
   "execution_count": 45,
   "metadata": {},
   "outputs": [
    {
     "name": "stdout",
     "output_type": "stream",
     "text": [
      "['j2', 'j1', 'j4']\n"
     ]
    },
    {
     "data": {
      "text/plain": [
       "40"
      ]
     },
     "execution_count": 45,
     "metadata": {},
     "output_type": "execute_result"
    }
   ],
   "source": [
    "max_profit(jobs)"
   ]
  },
  {
   "cell_type": "code",
   "execution_count": 42,
   "metadata": {},
   "outputs": [],
   "source": [
    "jobs = [\n",
    "    ('j1', 20, 2),\n",
    "    ('j2', 15, 2),\n",
    "    ('j3', 10, 1),\n",
    "    ('j4', 5, 3),\n",
    "    ('j5', 1, 3),\n",
    "]"
   ]
  },
  {
   "cell_type": "code",
   "execution_count": 43,
   "metadata": {},
   "outputs": [
    {
     "name": "stdout",
     "output_type": "stream",
     "text": [
      "['j2', 'j1', 'j4']\n"
     ]
    },
    {
     "data": {
      "text/plain": [
       "40"
      ]
     },
     "execution_count": 43,
     "metadata": {},
     "output_type": "execute_result"
    }
   ],
   "source": [
    "max_profit(jobs)"
   ]
  },
  {
   "cell_type": "code",
   "execution_count": null,
   "metadata": {},
   "outputs": [],
   "source": []
  }
 ],
 "metadata": {
  "kernelspec": {
   "display_name": "Python 3",
   "language": "python",
   "name": "python3"
  },
  "language_info": {
   "codemirror_mode": {
    "name": "ipython",
    "version": 3
   },
   "file_extension": ".py",
   "mimetype": "text/x-python",
   "name": "python",
   "nbconvert_exporter": "python",
   "pygments_lexer": "ipython3",
   "version": "3.11.9"
  }
 },
 "nbformat": 4,
 "nbformat_minor": 2
}
