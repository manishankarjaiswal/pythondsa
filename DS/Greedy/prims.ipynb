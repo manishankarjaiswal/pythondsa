{
 "cells": [
  {
   "cell_type": "code",
   "execution_count": 2,
   "metadata": {},
   "outputs": [],
   "source": [
    "edges = [(0, 1, 2),\n",
    " (0, 2, 4),\n",
    " (1, 0, 2),\n",
    " (1, 2, 3),\n",
    " (1, 3, 8),\n",
    " (2, 0, 4),\n",
    " (2, 1, 3),\n",
    " (2, 4, 5),\n",
    " (2, 3, 2),\n",
    " (3, 1, 8),\n",
    " (3, 2, 2),\n",
    " (3, 4, 11),\n",
    " (3, 5, 22),\n",
    " (4, 2, 5),\n",
    " (4, 3, 11),\n",
    " (4, 5, 1),\n",
    " (5, 3, 22),\n",
    " (5, 4, 1)]\n",
    "\n",
    "n = 6"
   ]
  },
  {
   "cell_type": "code",
   "execution_count": 9,
   "metadata": {},
   "outputs": [],
   "source": [
    "from heapq import *\n",
    "\n",
    "def prims(graph, start, parents, distance, visited):\n",
    "    parents[start] = -1\n",
    "    distance[start] = 0\n",
    "    bag = []\n",
    "    heappush(bag, [0, start])\n",
    "    while bag:\n",
    "        d, n = heappop(bag)\n",
    "        if visited[n] is False:\n",
    "            visited[n] = True\n",
    "            for cd, cn in graph[n]:\n",
    "                if distance[cn]>cd and visited[cn] is False:\n",
    "                    distance[cn] = cd\n",
    "                    parents[cn] = n\n",
    "                    heappush(bag, [cd, cn])\n",
    "    print(distance)\n",
    "    print(parents)\n",
    "\n",
    "    "
   ]
  },
  {
   "cell_type": "code",
   "execution_count": 10,
   "metadata": {},
   "outputs": [
    {
     "name": "stdout",
     "output_type": "stream",
     "text": [
      "{0: 0, 1: 2, 2: 3, 3: 2, 4: 5, 5: 1}\n",
      "{0: -1, 1: 0, 2: 1, 3: 2, 4: 2, 5: 4}\n"
     ]
    }
   ],
   "source": [
    "graph = {}\n",
    "parents, distance = {}, {}\n",
    "visited = {}\n",
    "for i in range(n):\n",
    "    graph[i] = []\n",
    "    parents[i] = None\n",
    "    distance[i] = float('inf')\n",
    "    visited[i] = False\n",
    "\n",
    "for u, v, d in edges:\n",
    "    graph[u].append([d, v])\n",
    "    graph[v].append([d, u])\n",
    "\n",
    "start = 0\n",
    "prims(graph, start, parents, distance, visited)"
   ]
  },
  {
   "cell_type": "code",
   "execution_count": null,
   "metadata": {},
   "outputs": [],
   "source": []
  }
 ],
 "metadata": {
  "kernelspec": {
   "display_name": "Python 3",
   "language": "python",
   "name": "python3"
  },
  "language_info": {
   "codemirror_mode": {
    "name": "ipython",
    "version": 3
   },
   "file_extension": ".py",
   "mimetype": "text/x-python",
   "name": "python",
   "nbconvert_exporter": "python",
   "pygments_lexer": "ipython3",
   "version": "3.11.9"
  }
 },
 "nbformat": 4,
 "nbformat_minor": 2
}
