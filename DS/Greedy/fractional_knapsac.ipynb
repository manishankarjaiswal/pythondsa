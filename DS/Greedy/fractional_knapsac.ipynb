{
 "cells": [
  {
   "cell_type": "code",
   "execution_count": 16,
   "metadata": {},
   "outputs": [],
   "source": [
    "items = [1,2,3, 4]\n",
    "profits = [40, 100, 50, 60]\n",
    "weights = [20, 10, 40, 30]\n",
    "N = 4\n",
    "W = 50"
   ]
  },
  {
   "cell_type": "code",
   "execution_count": 17,
   "metadata": {},
   "outputs": [],
   "source": [
    "def knapsack(items, profits, weights, N, W):\n",
    "    data = [(profits[i]/weights[i], profits[i], weights[i]) for i in range(N)]\n",
    "    data.sort(reverse=True)\n",
    "    print(data)\n",
    "    max_p = 0\n",
    "    current_weight = 0\n",
    "    for ratio, p, w in data:\n",
    "        if current_weight+w<=W:\n",
    "            max_p+=p\n",
    "            current_weight+=w\n",
    "        else:\n",
    "            required_w = W-current_weight\n",
    "            max_p+=(required_w*ratio)\n",
    "            current_weight+=required_w\n",
    "    return max_p"
   ]
  },
  {
   "cell_type": "code",
   "execution_count": 18,
   "metadata": {},
   "outputs": [
    {
     "name": "stdout",
     "output_type": "stream",
     "text": [
      "[(10.0, 100, 10), (2.0, 60, 30), (2.0, 40, 20), (1.25, 50, 40)]\n"
     ]
    },
    {
     "data": {
      "text/plain": [
       "180.0"
      ]
     },
     "execution_count": 18,
     "metadata": {},
     "output_type": "execute_result"
    }
   ],
   "source": [
    "knapsack(items, profits, weights, N, W)"
   ]
  },
  {
   "cell_type": "code",
   "execution_count": null,
   "metadata": {},
   "outputs": [],
   "source": []
  }
 ],
 "metadata": {
  "kernelspec": {
   "display_name": "Python 3",
   "language": "python",
   "name": "python3"
  },
  "language_info": {
   "codemirror_mode": {
    "name": "ipython",
    "version": 3
   },
   "file_extension": ".py",
   "mimetype": "text/x-python",
   "name": "python",
   "nbconvert_exporter": "python",
   "pygments_lexer": "ipython3",
   "version": "3.11.9"
  }
 },
 "nbformat": 4,
 "nbformat_minor": 2
}
