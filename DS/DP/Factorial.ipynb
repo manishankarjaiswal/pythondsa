{
 "cells": [
  {
   "cell_type": "code",
   "execution_count": 27,
   "metadata": {},
   "outputs": [],
   "source": [
    "# factorial of large number\n",
    "\n",
    "def fact_rec(n):\n",
    "    if n <=1:\n",
    "        return 1\n",
    "    return n*fact_rec(n-1)\n",
    "N = 100"
   ]
  },
  {
   "cell_type": "code",
   "execution_count": 28,
   "metadata": {},
   "outputs": [
    {
     "name": "stdout",
     "output_type": "stream",
     "text": [
      "CPU times: user 17 μs, sys: 2 μs, total: 19 μs\n",
      "Wall time: 22.2 μs\n"
     ]
    },
    {
     "data": {
      "text/plain": [
       "93326215443944152681699238856266700490715968264381621468592963895217599993229915608941463976156518286253697920827223758251185210916864000000000000000000000000"
      ]
     },
     "execution_count": 28,
     "metadata": {},
     "output_type": "execute_result"
    }
   ],
   "source": [
    "%%time\n",
    "fact_rec(N)"
   ]
  },
  {
   "cell_type": "code",
   "execution_count": 38,
   "metadata": {},
   "outputs": [
    {
     "name": "stdout",
     "output_type": "stream",
     "text": [
      "Factorial of 5 is 120\n"
     ]
    }
   ],
   "source": [
    "\n",
    "def factorial(n):\n",
    "    # Initialize a list to store the results of subproblems\n",
    "    dp = [1] * (n + 1)  # dp[i] will hold the factorial of i\n",
    "\n",
    "    # Calculate the factorial of each number from 1 to n\n",
    "    for i in range(2, n + 1):\n",
    "        dp[i] = dp[i - 1] * i  # Factorial of i is i * factorial of (i-1)\n",
    "\n",
    "    return dp[n]  # Return the factorial of n\n",
    "\n",
    "# Example usage:\n",
    "n = 5\n",
    "print(f\"Factorial of {n} is {factorial(n)}\")\n"
   ]
  },
  {
   "cell_type": "code",
   "execution_count": 44,
   "metadata": {},
   "outputs": [
    {
     "name": "stdout",
     "output_type": "stream",
     "text": [
      "CPU times: user 13 μs, sys: 2 μs, total: 15 μs\n",
      "Wall time: 16.5 μs\n"
     ]
    },
    {
     "data": {
      "text/plain": [
       "93326215443944152681699238856266700490715968264381621468592963895217599993229915608941463976156518286253697920827223758251185210916864000000000000000000000000"
      ]
     },
     "execution_count": 44,
     "metadata": {},
     "output_type": "execute_result"
    }
   ],
   "source": [
    "%%time\n",
    "factorial(100)"
   ]
  },
  {
   "cell_type": "code",
   "execution_count": null,
   "metadata": {},
   "outputs": [],
   "source": []
  }
 ],
 "metadata": {
  "kernelspec": {
   "display_name": "Python 3",
   "language": "python",
   "name": "python3"
  },
  "language_info": {
   "codemirror_mode": {
    "name": "ipython",
    "version": 3
   },
   "file_extension": ".py",
   "mimetype": "text/x-python",
   "name": "python",
   "nbconvert_exporter": "python",
   "pygments_lexer": "ipython3",
   "version": "3.11.9"
  }
 },
 "nbformat": 4,
 "nbformat_minor": 2
}
