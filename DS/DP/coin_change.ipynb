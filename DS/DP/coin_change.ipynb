{
 "cells": [
  {
   "cell_type": "markdown",
   "metadata": {},
   "source": [
    "Number of ways to get total"
   ]
  },
  {
   "cell_type": "code",
   "execution_count": 7,
   "metadata": {},
   "outputs": [],
   "source": [
    "coins = [2, 3, 5, 10]\n",
    "W = 7"
   ]
  },
  {
   "cell_type": "code",
   "execution_count": 20,
   "metadata": {},
   "outputs": [],
   "source": [
    "def coin_change_1(c, w):\n",
    "    results = [[0 for _ in range(w+1)] for _ in range(len(c))]\n",
    "    for i in range(len(c)):\n",
    "        for j in range(w+1):\n",
    "            if j == 0:\n",
    "                print(i, j)\n",
    "                results[i][j] = 1\n",
    "            elif c[i]>j:\n",
    "                print(i-1, j, results[i-1][j])\n",
    "                results[i][j] = results[i-1][j]\n",
    "            else:\n",
    "                results[i][j] = results[i-1][j]+results[i][j-c[i]]\n",
    "    print(results)\n",
    "    return results[-1][-1]"
   ]
  },
  {
   "cell_type": "code",
   "execution_count": 21,
   "metadata": {},
   "outputs": [
    {
     "name": "stdout",
     "output_type": "stream",
     "text": [
      "0 0\n",
      "-1 1 0\n",
      "1 0\n",
      "0 1 0\n",
      "0 2 1\n",
      "2 0\n",
      "1 1 0\n",
      "1 2 1\n",
      "1 3 1\n",
      "1 4 1\n",
      "3 0\n",
      "2 1 0\n",
      "2 2 1\n",
      "2 3 1\n",
      "2 4 1\n",
      "2 5 2\n",
      "2 6 2\n",
      "2 7 2\n",
      "[[1, 0, 1, 0, 1, 0, 1, 0], [1, 0, 1, 1, 1, 1, 2, 1], [1, 0, 1, 1, 1, 2, 2, 2], [1, 0, 1, 1, 1, 2, 2, 2]]\n"
     ]
    },
    {
     "data": {
      "text/plain": [
       "2"
      ]
     },
     "execution_count": 21,
     "metadata": {},
     "output_type": "execute_result"
    }
   ],
   "source": [
    "coin_change_1(coins, W)"
   ]
  },
  {
   "cell_type": "code",
   "execution_count": null,
   "metadata": {},
   "outputs": [],
   "source": []
  }
 ],
 "metadata": {
  "kernelspec": {
   "display_name": "Python 3",
   "language": "python",
   "name": "python3"
  },
  "language_info": {
   "codemirror_mode": {
    "name": "ipython",
    "version": 3
   },
   "file_extension": ".py",
   "mimetype": "text/x-python",
   "name": "python",
   "nbconvert_exporter": "python",
   "pygments_lexer": "ipython3",
   "version": "3.11.9"
  }
 },
 "nbformat": 4,
 "nbformat_minor": 2
}
