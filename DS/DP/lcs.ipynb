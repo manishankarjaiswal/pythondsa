{
 "cells": [
  {
   "cell_type": "code",
   "execution_count": 53,
   "metadata": {},
   "outputs": [],
   "source": [
    "def lcs(str1, str2, idx1, idx2):\n",
    "    if len(str1) == idx1 or len(str2) == idx2:\n",
    "        return 0\n",
    "    elif str1[idx1] == str2[idx2]:\n",
    "        return 1+lcs(str1, str2, idx1+1, idx2+1)\n",
    "    else:\n",
    "        option1 = lcs(str1, str2, idx1, idx2+1)\n",
    "        option2 = lcs(str1, str2, idx1+1, idx2)\n",
    "        return max(option1, option2)"
   ]
  },
  {
   "cell_type": "code",
   "execution_count": 58,
   "metadata": {},
   "outputs": [],
   "source": [
    "str1 = \"absent\"\n",
    "str2 = \"best\""
   ]
  },
  {
   "cell_type": "code",
   "execution_count": 59,
   "metadata": {},
   "outputs": [
    {
     "data": {
      "text/plain": [
       "3"
      ]
     },
     "execution_count": 59,
     "metadata": {},
     "output_type": "execute_result"
    }
   ],
   "source": [
    "lcs(str1, str2, 0, 0)"
   ]
  },
  {
   "cell_type": "markdown",
   "metadata": {},
   "source": [
    "Len of Str1 = M, \n",
    "Len of Str2 = N, \n",
    "`O(2^M*2^N)` = `O(2^(M+N))`\n",
    "Time COmplexity\n"
   ]
  },
  {
   "cell_type": "code",
   "execution_count": 13,
   "metadata": {},
   "outputs": [],
   "source": [
    "# Using Memorization\n",
    "def lcs_dp(str1, str2):\n",
    "    results = {}\n",
    "    def recurse(idx1, idx2):\n",
    "        key = (idx1, idx2)\n",
    "        if key in results:\n",
    "            return results[key]\n",
    "        elif len(str1) == idx1 or len(str2) == idx2:\n",
    "            results[key] = 0\n",
    "        elif str1[idx1] == str2[idx2]:\n",
    "            results[key] = 1+recurse(idx1+1, idx2+1)\n",
    "        else:\n",
    "            option1 = recurse(idx1, idx2+1)\n",
    "            option2 = recurse(idx1+1, idx2)\n",
    "            results[key] = max(option1, option2)\n",
    "        return results[key]\n",
    "    return recurse(0, 0)"
   ]
  },
  {
   "cell_type": "code",
   "execution_count": 15,
   "metadata": {},
   "outputs": [
    {
     "data": {
      "text/plain": [
       "7"
      ]
     },
     "execution_count": 15,
     "metadata": {},
     "output_type": "execute_result"
    }
   ],
   "source": [
    "str1 = \"manishankar\"\n",
    "str2 = \"manisha\"\n",
    "lcs_dp(str1, str2)"
   ]
  },
  {
   "cell_type": "code",
   "execution_count": 48,
   "metadata": {},
   "outputs": [],
   "source": [
    "# Using Bottom-Up Approach\n",
    "def get_value(results, i, j):\n",
    "    if i<0 or j<0:\n",
    "        return 0\n",
    "    else:\n",
    "        return results[i][j]\n",
    "    \n",
    "def lcs_td(s1, s2):\n",
    "    n1, n2 = len(s1), len(s2)\n",
    "    results = [[0 for _ in range(n2)] for _ in range(n1)]\n",
    "    for i in range(n1):\n",
    "        for j in range(n2):\n",
    "            if s1[i] == s2[j]:\n",
    "                results[i][j]=1+get_value(results, i-1, j-1)\n",
    "            else:\n",
    "                results[i][j] = max(get_value(results, i-1, j), get_value(results, i, j-1))\n",
    "    return results[-1][-1]"
   ]
  },
  {
   "cell_type": "code",
   "execution_count": 52,
   "metadata": {},
   "outputs": [
    {
     "data": {
      "text/plain": [
       "7"
      ]
     },
     "execution_count": 52,
     "metadata": {},
     "output_type": "execute_result"
    }
   ],
   "source": [
    "str1 = \"manishankar\"\n",
    "str2 = \"manisha\"\n",
    "lcs_td(str1, str2)"
   ]
  },
  {
   "cell_type": "code",
   "execution_count": null,
   "metadata": {},
   "outputs": [],
   "source": []
  }
 ],
 "metadata": {
  "kernelspec": {
   "display_name": "Python 3",
   "language": "python",
   "name": "python3"
  },
  "language_info": {
   "codemirror_mode": {
    "name": "ipython",
    "version": 3
   },
   "file_extension": ".py",
   "mimetype": "text/x-python",
   "name": "python",
   "nbconvert_exporter": "python",
   "pygments_lexer": "ipython3",
   "version": "3.11.9"
  }
 },
 "nbformat": 4,
 "nbformat_minor": 2
}
