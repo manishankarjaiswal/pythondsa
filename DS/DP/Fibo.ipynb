{
 "cells": [
  {
   "cell_type": "code",
   "execution_count": 1,
   "metadata": {},
   "outputs": [],
   "source": [
    "num = 10"
   ]
  },
  {
   "cell_type": "code",
   "execution_count": 2,
   "metadata": {},
   "outputs": [
    {
     "name": "stdout",
     "output_type": "stream",
     "text": [
      "0\n",
      "1\n",
      "1\n",
      "2\n",
      "3\n",
      "5\n",
      "8\n",
      "13\n",
      "21\n",
      "34\n"
     ]
    }
   ],
   "source": [
    "def fibo_normal(n):\n",
    "    if n<=1:\n",
    "        return n\n",
    "    return fibo_normal(n-1)+fibo_normal(n-2)\n",
    "\n",
    "\n",
    "for i in range(num):\n",
    "    print(fibo_normal(i))"
   ]
  },
  {
   "cell_type": "code",
   "execution_count": 3,
   "metadata": {},
   "outputs": [
    {
     "name": "stdout",
     "output_type": "stream",
     "text": [
      "[0, 1, 1, 2, 3, 5, 8, 13, 21, 34, 55]\n"
     ]
    }
   ],
   "source": [
    "def _fibo(n):\n",
    "    if n<=1:\n",
    "        return n\n",
    "    memo = [-1]*(n+1)\n",
    "    memo[0], memo[1] = 0, 1\n",
    "    for i in range(2, n+1):\n",
    "        memo[i] = memo[i-1] + memo[i-2]\n",
    "    return memo\n",
    "\n",
    "print(_fibo(num))"
   ]
  },
  {
   "cell_type": "code",
   "execution_count": 4,
   "metadata": {},
   "outputs": [
    {
     "name": "stdout",
     "output_type": "stream",
     "text": [
      "55\n",
      "[-1, -1, 1, 2, 3, 5, 8, 13, 21, 34, 55]\n"
     ]
    }
   ],
   "source": [
    "def fibo_dp(n, memo_):\n",
    "    if n<=1:\n",
    "        return n\n",
    "    \n",
    "    if memo_[n] !=-1:\n",
    "        return memo_[n]\n",
    "    \n",
    "    memo_[n] = fibo_dp(n-1, memo_)+fibo_dp(n-2, memo_)\n",
    "    return memo_[n]\n",
    "\n",
    "memo_ = [-1]*(num+1)\n",
    "print(fibo_dp(num, memo_))\n",
    "print(memo_)"
   ]
  }
 ],
 "metadata": {
  "kernelspec": {
   "display_name": "Python 3",
   "language": "python",
   "name": "python3"
  },
  "language_info": {
   "codemirror_mode": {
    "name": "ipython",
    "version": 3
   },
   "file_extension": ".py",
   "mimetype": "text/x-python",
   "name": "python",
   "nbconvert_exporter": "python",
   "pygments_lexer": "ipython3",
   "version": "3.11.9"
  }
 },
 "nbformat": 4,
 "nbformat_minor": 2
}
