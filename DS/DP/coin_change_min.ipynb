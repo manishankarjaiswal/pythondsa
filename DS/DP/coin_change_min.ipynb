{
 "cells": [
  {
   "cell_type": "markdown",
   "metadata": {},
   "source": [
    "Number of ways to get total"
   ]
  },
  {
   "cell_type": "code",
   "execution_count": 24,
   "metadata": {},
   "outputs": [],
   "source": [
    "coins = [1, 5, 6, 9]\n",
    "W = 10"
   ]
  },
  {
   "cell_type": "code",
   "execution_count": 25,
   "metadata": {},
   "outputs": [],
   "source": [
    "def coin_change_dp(c, w):\n",
    "    results = [[float('inf') for _ in range(w+1)] for _ in range(len(c))]\n",
    "    for i in range(len(c)):\n",
    "        for j in range(w+1):\n",
    "            if j == 0:\n",
    "                results[i][j] = 0\n",
    "            elif c[i]>j:\n",
    "                results[i][j] = results[i-1][j]\n",
    "            else:\n",
    "                results[i][j] = min(results[i-1][j], 1+results[i][j-c[i]])\n",
    "    print(results)\n",
    "    return results[-1][-1]"
   ]
  },
  {
   "cell_type": "code",
   "execution_count": 26,
   "metadata": {},
   "outputs": [
    {
     "name": "stdout",
     "output_type": "stream",
     "text": [
      "[[0, 1, 2, 3, 4, 5, 6, 7, 8, 9, 10], [0, 1, 2, 3, 4, 1, 2, 3, 4, 5, 2], [0, 1, 2, 3, 4, 1, 1, 2, 3, 4, 2], [0, 1, 2, 3, 4, 1, 1, 2, 3, 1, 2]]\n"
     ]
    },
    {
     "data": {
      "text/plain": [
       "2"
      ]
     },
     "execution_count": 26,
     "metadata": {},
     "output_type": "execute_result"
    }
   ],
   "source": [
    "coin_change_dp(coins, W)"
   ]
  },
  {
   "cell_type": "code",
   "execution_count": 27,
   "metadata": {},
   "outputs": [
    {
     "data": {
      "text/plain": [
       "2"
      ]
     },
     "execution_count": 27,
     "metadata": {},
     "output_type": "execute_result"
    }
   ],
   "source": [
    "def coin_change_recursive(coins, n, sum):\n",
    "    if sum == 0:\n",
    "        return 0\n",
    "    \n",
    "    res = float('inf')\n",
    "    for i in range(n):\n",
    "        if coins[i]<=sum:\n",
    "            sub_res = coin_change_recursive(coins, n, sum-coins[i])\n",
    "            if sub_res != res and sub_res+1<res:\n",
    "                res = sub_res+1\n",
    "    return res\n",
    "coin_change_recursive([9, 6, 5, 1], 4, 11)"
   ]
  },
  {
   "cell_type": "code",
   "execution_count": 31,
   "metadata": {},
   "outputs": [
    {
     "data": {
      "text/plain": [
       "2"
      ]
     },
     "execution_count": 31,
     "metadata": {},
     "output_type": "execute_result"
    }
   ],
   "source": [
    "def coin_change_recursive_td(coins, n, sum, dp):\n",
    "    if sum == 0:\n",
    "        return 0\n",
    "    \n",
    "    if dp[sum] != -1:\n",
    "        return dp[sum]\n",
    "    \n",
    "    res = float('inf')\n",
    "    for i in range(n):\n",
    "        if coins[i]<=sum:\n",
    "            sub_res = coin_change_recursive_td(coins, n, sum-coins[i], dp)\n",
    "            if sub_res != res and sub_res+1<res:\n",
    "                res = sub_res+1\n",
    "\n",
    "    dp[sum] = res\n",
    "    return res\n",
    "\n",
    "dp = [-1]*(12)\n",
    "# print(dp)\n",
    "coin_change_recursive_td([9, 6, 5, 1], 4, 11, dp)"
   ]
  },
  {
   "cell_type": "code",
   "execution_count": 1,
   "metadata": {},
   "outputs": [
    {
     "name": "stdout",
     "output_type": "stream",
     "text": [
      "Minimum coins required is 2\n"
     ]
    }
   ],
   "source": [
    "import sys\n",
    "\n",
    "# Utility function for solving the minimum coins problem\n",
    "\n",
    "\n",
    "def minCoinsUtil(coins, m, sum, dp):\n",
    "    # Base case: If target value sum is 0, no coins are needed\n",
    "    if sum == 0:\n",
    "        return 0\n",
    "\n",
    "    # If subproblem is already solved, return the result from DP table\n",
    "    if dp[sum] != -1:\n",
    "        return dp[sum]\n",
    "\n",
    "    res = sys.maxsize\n",
    "\n",
    "    # Iterate over all coins and recursively solve for subproblems\n",
    "    for i in range(m):\n",
    "        if coins[i] <= sum:\n",
    "            # Recursive call to solve for remaining value sum - coins[i]\n",
    "            sub_res = minCoinsUtil(coins, m, sum - coins[i], dp)\n",
    "\n",
    "            # If the subproblem has a valid solution and the total number of coins\n",
    "            # is smaller than the current result, update the result\n",
    "            if sub_res != sys.maxsize and sub_res + 1 < res:\n",
    "                res = sub_res + 1\n",
    "\n",
    "    # Save the result in the DP table\n",
    "    dp[sum] = res\n",
    "\n",
    "    return res\n",
    "\n",
    "# Function to find the minimum number of coins needed to make a target value\n",
    "\n",
    "\n",
    "def minCoins(coins, m, sum):\n",
    "    # Create a DP table to store results of subproblems\n",
    "    dp = [-1] * (sum + 1)\n",
    "\n",
    "    # Call the utility function to solve the problem\n",
    "    return minCoinsUtil(coins, m, sum, dp)\n",
    "\n",
    "\n",
    "# Driver code\n",
    "if __name__ == \"__main__\":\n",
    "    coins = [9, 6, 5, 1]\n",
    "    m = len(coins)\n",
    "    sum = 11\n",
    "    res = minCoins(coins, m, sum)\n",
    "\n",
    "    if res == sys.maxsize:\n",
    "        res = -1\n",
    "\n",
    "    # Find the minimum number of coins required\n",
    "    print(\"Minimum coins required is\", res)\n"
   ]
  },
  {
   "cell_type": "code",
   "execution_count": 38,
   "metadata": {},
   "outputs": [
    {
     "name": "stdout",
     "output_type": "stream",
     "text": [
      "Inorder Traversal: \n"
     ]
    },
    {
     "ename": "NameError",
     "evalue": "name 'Inorder' is not defined",
     "output_type": "error",
     "traceback": [
      "\u001b[0;31m---------------------------------------------------------------------------\u001b[0m",
      "\u001b[0;31mNameError\u001b[0m                                 Traceback (most recent call last)",
      "Cell \u001b[0;32mIn[38], line 38\u001b[0m\n\u001b[1;32m     36\u001b[0m root\u001b[38;5;241m.\u001b[39minsert(\u001b[38;5;241m5\u001b[39m)\n\u001b[1;32m     37\u001b[0m \u001b[38;5;28mprint\u001b[39m(\u001b[38;5;124m\"\u001b[39m\u001b[38;5;124mInorder Traversal: \u001b[39m\u001b[38;5;124m\"\u001b[39m)\n\u001b[0;32m---> 38\u001b[0m \u001b[38;5;28mprint\u001b[39m(\u001b[43mroot\u001b[49m\u001b[38;5;241;43m.\u001b[39;49m\u001b[43mInorder\u001b[49m\u001b[43m(\u001b[49m\u001b[43m)\u001b[49m)\n",
      "Cell \u001b[0;32mIn[38], line 27\u001b[0m, in \u001b[0;36mNode.Inorder\u001b[0;34m(self)\u001b[0m\n\u001b[1;32m     25\u001b[0m \u001b[38;5;28;01mif\u001b[39;00m \u001b[38;5;28mself\u001b[39m \u001b[38;5;129;01mis\u001b[39;00m \u001b[38;5;28;01mNone\u001b[39;00m: \n\u001b[1;32m     26\u001b[0m   \u001b[38;5;28;01mreturn\u001b[39;00m []\n\u001b[0;32m---> 27\u001b[0m \u001b[38;5;28;01mreturn\u001b[39;00m (\u001b[43mInorder\u001b[49m(\u001b[38;5;28mself\u001b[39m\u001b[38;5;241m.\u001b[39mleft) \u001b[38;5;241m+\u001b[39m \n\u001b[1;32m     28\u001b[0m           [\u001b[38;5;28mself\u001b[39m\u001b[38;5;241m.\u001b[39mdata] \u001b[38;5;241m+\u001b[39m \n\u001b[1;32m     29\u001b[0m           Inorder(\u001b[38;5;28mself\u001b[39m\u001b[38;5;241m.\u001b[39mright))\n",
      "\u001b[0;31mNameError\u001b[0m: name 'Inorder' is not defined"
     ]
    }
   ],
   "source": [
    "class Node:\n",
    "   def __init__(self, data):\n",
    "      self.left = None\n",
    "      self.right = None\n",
    "      self.data = data\n",
    "\n",
    "# Insert method to create nodes\n",
    "   def insert(self, data):\n",
    "      if self.data:\n",
    "         if data < self.data:\n",
    "            if self.left is None:\n",
    "               self.left = Node(data)\n",
    "            else:\n",
    "               self.left.insert(data)\n",
    "         elif data > self.data:\n",
    "            if self.right is None:\n",
    "               self.right = Node(data)\n",
    "            else:\n",
    "               self.right.insert(data)\n",
    "         else:\n",
    "            self.data = data\n",
    "\n",
    "# Print the tree\n",
    "   def Inorder(self):   \n",
    "      if self is None: \n",
    "        return []\n",
    "      return (Node.Inorder(self.left) + \n",
    "                [self.data] + \n",
    "                Node.Inorder(self.right))\n",
    "\n",
    "root = Node(54)\n",
    "root.insert(34)\n",
    "root.insert(46)\n",
    "root.insert(12)\n",
    "root.insert(23)\n",
    "root.insert(5)\n",
    "print(\"Inorder Traversal: \")\n",
    "print(root.Inorder())"
   ]
  }
 ],
 "metadata": {
  "kernelspec": {
   "display_name": "Python 3",
   "language": "python",
   "name": "python3"
  },
  "language_info": {
   "codemirror_mode": {
    "name": "ipython",
    "version": 3
   },
   "file_extension": ".py",
   "mimetype": "text/x-python",
   "name": "python",
   "nbconvert_exporter": "python",
   "pygments_lexer": "ipython3",
   "version": "3.11.9"
  }
 },
 "nbformat": 4,
 "nbformat_minor": 2
}
