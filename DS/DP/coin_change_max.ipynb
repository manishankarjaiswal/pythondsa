{
 "cells": [
  {
   "cell_type": "markdown",
   "metadata": {},
   "source": [
    "Number of ways to get total"
   ]
  },
  {
   "cell_type": "code",
   "execution_count": 15,
   "metadata": {},
   "outputs": [],
   "source": [
    "coins = [1,2,3]\n",
    "W = 4"
   ]
  },
  {
   "cell_type": "code",
   "execution_count": 18,
   "metadata": {},
   "outputs": [],
   "source": [
    "def coin_change_dp(c, w):\n",
    "    results = [[0 for _ in range(w+1)] for _ in range(len(c))]\n",
    "    for i in range(len(c)):\n",
    "        for j in range(w+1):\n",
    "            if j == 0:\n",
    "                results[i][j] = 1\n",
    "            elif c[i]>j:\n",
    "                results[i][j] = results[i-1][j]\n",
    "            else:\n",
    "                results[i][j] = results[i-1][j]+results[i][j-c[i]]\n",
    "    print(results)\n",
    "    return results[-1][-1]"
   ]
  },
  {
   "cell_type": "code",
   "execution_count": 19,
   "metadata": {},
   "outputs": [
    {
     "name": "stdout",
     "output_type": "stream",
     "text": [
      "[[1, 1, 1, 1, 1], [1, 1, 2, 2, 3], [1, 1, 2, 3, 4]]\n"
     ]
    },
    {
     "data": {
      "text/plain": [
       "4"
      ]
     },
     "execution_count": 19,
     "metadata": {},
     "output_type": "execute_result"
    }
   ],
   "source": [
    "coin_change_dp(coins, W)"
   ]
  },
  {
   "cell_type": "code",
   "execution_count": 28,
   "metadata": {},
   "outputs": [],
   "source": [
    "def test(coins, N, Sum):\n",
    "    res = [[0 for _ in range(Sum+1)] for _ in range(N)]\n",
    "    for i in range(N):\n",
    "        for j in range(Sum+1):\n",
    "            if j == 0:\n",
    "                res[i][j] = 1\n",
    "            elif coins[i]>j:\n",
    "                res[i][j] = res[i-1][j]\n",
    "            else:\n",
    "                res[i][j] = res[i-1][j] + res[i][j-coins[i]]\n",
    "    print(res)\n",
    "    return res[-1][-1]"
   ]
  },
  {
   "cell_type": "code",
   "execution_count": 29,
   "metadata": {},
   "outputs": [
    {
     "name": "stdout",
     "output_type": "stream",
     "text": [
      "[[1, 1, 1, 1, 1], [1, 1, 2, 2, 3], [1, 1, 2, 3, 4]]\n"
     ]
    },
    {
     "data": {
      "text/plain": [
       "4"
      ]
     },
     "execution_count": 29,
     "metadata": {},
     "output_type": "execute_result"
    }
   ],
   "source": [
    "test(coins, len(coins), W)"
   ]
  },
  {
   "cell_type": "code",
   "execution_count": 15,
   "metadata": {},
   "outputs": [
    {
     "name": "stdout",
     "output_type": "stream",
     "text": [
      "5\n"
     ]
    }
   ],
   "source": [
    "# Recursive Python3 program for\n",
    "# coin change problem.\n",
    "\n",
    "# Returns the count of ways we can sum\n",
    "# coins[0...n-1] coins to get sum \"sum\"\n",
    "\n",
    "\n",
    "def coin_change_2(coins, n, sum):\n",
    "\n",
    "    # If sum is 0 then there is 1\n",
    "    # solution (do not include any coin)\n",
    "    if (sum == 0):\n",
    "        return 1\n",
    "\n",
    "    # If sum is less than 0 then no\n",
    "    # solution exists\n",
    "    if (sum < 0):\n",
    "        return 0\n",
    "\n",
    "    # If there are no coins and sum\n",
    "    # is greater than 0, then no\n",
    "    # solution exist\n",
    "    if (n <= 0):\n",
    "        return 0\n",
    "\n",
    "    # count is sum of solutions (i)\n",
    "    # including coins[n-1] (ii) excluding coins[n-1]\n",
    "    return coin_change_2(coins, n - 1, sum) + coin_change_2(coins, n, sum-coins[n-1])\n",
    "\n",
    "\n",
    "print(coin_change_2(coins, len(coins), W))\n",
    "\n",
    "# This code is contributed by Smitha Dinesh Semwal"
   ]
  },
  {
   "cell_type": "code",
   "execution_count": 31,
   "metadata": {},
   "outputs": [
    {
     "data": {
      "text/plain": [
       "False"
      ]
     },
     "execution_count": 31,
     "metadata": {},
     "output_type": "execute_result"
    }
   ],
   "source": [
    "a = []\n",
    "b = []\n",
    "a is b"
   ]
  },
  {
   "cell_type": "code",
   "execution_count": 32,
   "metadata": {},
   "outputs": [
    {
     "data": {
      "text/plain": [
       "True"
      ]
     },
     "execution_count": 32,
     "metadata": {},
     "output_type": "execute_result"
    }
   ],
   "source": [
    "a = 10\n",
    "b = 10\n",
    "a is b"
   ]
  },
  {
   "cell_type": "code",
   "execution_count": 33,
   "metadata": {},
   "outputs": [
    {
     "data": {
      "text/plain": [
       "False"
      ]
     },
     "execution_count": 33,
     "metadata": {},
     "output_type": "execute_result"
    }
   ],
   "source": [
    "a = 300\n",
    "b = 300\n",
    "a is b"
   ]
  },
  {
   "cell_type": "code",
   "execution_count": null,
   "metadata": {},
   "outputs": [],
   "source": []
  }
 ],
 "metadata": {
  "kernelspec": {
   "display_name": "Python 3",
   "language": "python",
   "name": "python3"
  },
  "language_info": {
   "codemirror_mode": {
    "name": "ipython",
    "version": 3
   },
   "file_extension": ".py",
   "mimetype": "text/x-python",
   "name": "python",
   "nbconvert_exporter": "python",
   "pygments_lexer": "ipython3",
   "version": "3.11.9"
  }
 },
 "nbformat": 4,
 "nbformat_minor": 2
}
