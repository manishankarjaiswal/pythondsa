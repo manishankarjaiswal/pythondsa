{
 "cells": [
  {
   "cell_type": "markdown",
   "metadata": {},
   "source": [
    "Number of ways to get total"
   ]
  },
  {
   "cell_type": "code",
   "execution_count": 8,
   "metadata": {},
   "outputs": [],
   "source": [
    "coins = [2, 5, 3, 6]\n",
    "W = 10"
   ]
  },
  {
   "cell_type": "code",
   "execution_count": 13,
   "metadata": {},
   "outputs": [],
   "source": [
    "def coin_change_dp(c, w):\n",
    "    results = [[0 for _ in range(w+1)] for _ in range(len(c))]\n",
    "    for i in range(len(c)):\n",
    "        for j in range(w+1):\n",
    "            if j == 0:\n",
    "                results[i][j] = 1\n",
    "            elif c[i]>j:\n",
    "                results[i][j] = results[i-1][j]\n",
    "            else:\n",
    "                results[i][j] = results[i-1][j]+results[i][j-c[i]]\n",
    "    return results[-1][-1]"
   ]
  },
  {
   "cell_type": "code",
   "execution_count": 14,
   "metadata": {},
   "outputs": [
    {
     "data": {
      "text/plain": [
       "5"
      ]
     },
     "execution_count": 14,
     "metadata": {},
     "output_type": "execute_result"
    }
   ],
   "source": [
    "coin_change_dp(coins, W)"
   ]
  },
  {
   "cell_type": "code",
   "execution_count": 15,
   "metadata": {},
   "outputs": [
    {
     "name": "stdout",
     "output_type": "stream",
     "text": [
      "5\n"
     ]
    }
   ],
   "source": [
    "# Recursive Python3 program for\n",
    "# coin change problem.\n",
    "\n",
    "# Returns the count of ways we can sum\n",
    "# coins[0...n-1] coins to get sum \"sum\"\n",
    "\n",
    "\n",
    "def coin_change_2(coins, n, sum):\n",
    "\n",
    "    # If sum is 0 then there is 1\n",
    "    # solution (do not include any coin)\n",
    "    if (sum == 0):\n",
    "        return 1\n",
    "\n",
    "    # If sum is less than 0 then no\n",
    "    # solution exists\n",
    "    if (sum < 0):\n",
    "        return 0\n",
    "\n",
    "    # If there are no coins and sum\n",
    "    # is greater than 0, then no\n",
    "    # solution exist\n",
    "    if (n <= 0):\n",
    "        return 0\n",
    "\n",
    "    # count is sum of solutions (i)\n",
    "    # including coins[n-1] (ii) excluding coins[n-1]\n",
    "    return coin_change_2(coins, n - 1, sum) + coin_change_2(coins, n, sum-coins[n-1])\n",
    "\n",
    "\n",
    "print(coin_change_2(coins, len(coins), W))\n",
    "\n",
    "# This code is contributed by Smitha Dinesh Semwal"
   ]
  },
  {
   "cell_type": "code",
   "execution_count": null,
   "metadata": {},
   "outputs": [],
   "source": []
  }
 ],
 "metadata": {
  "kernelspec": {
   "display_name": "Python 3",
   "language": "python",
   "name": "python3"
  },
  "language_info": {
   "codemirror_mode": {
    "name": "ipython",
    "version": 3
   },
   "file_extension": ".py",
   "mimetype": "text/x-python",
   "name": "python",
   "nbconvert_exporter": "python",
   "pygments_lexer": "ipython3",
   "version": "3.11.9"
  }
 },
 "nbformat": 4,
 "nbformat_minor": 2
}
