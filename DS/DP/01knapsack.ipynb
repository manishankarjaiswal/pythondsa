{
 "cells": [
  {
   "cell_type": "code",
   "execution_count": 27,
   "metadata": {},
   "outputs": [],
   "source": [
    "def knapsack_dp(cap, w, p):\n",
    "    result = [[0 for _ in range(cap+1)] for _ in range(len(w))]\n",
    "    for ind in range(len(w)):\n",
    "        for c in range(cap+1):\n",
    "            if ind == 0:\n",
    "                result[ind][c] = 0 if w[ind]>c else p[ind]\n",
    "            elif w[ind]>c:\n",
    "                result[ind][c] = result[ind-1][c]\n",
    "            else:\n",
    "                option1 = p[ind]+result[ind-1][c-w[ind]]\n",
    "                option2 = result[ind-1][c]\n",
    "                result[ind][c] = max(option1, option2)\n",
    "    return result[-1][-1]"
   ]
  },
  {
   "cell_type": "code",
   "execution_count": 28,
   "metadata": {},
   "outputs": [
    {
     "data": {
      "text/plain": [
       "16"
      ]
     },
     "execution_count": 28,
     "metadata": {},
     "output_type": "execute_result"
    }
   ],
   "source": [
    "capacity = 10\n",
    "weights = [2,3,3,4,6]\n",
    "profit = [1,2,5,9,4]\n",
    "knapsack_dp(capacity, weights, profit)"
   ]
  },
  {
   "cell_type": "code",
   "execution_count": 29,
   "metadata": {},
   "outputs": [],
   "source": [
    "def knapsack(cap, w, p, idx):\n",
    "    if idx == len(w):\n",
    "        return 0\n",
    "    elif w[idx] <= cap:\n",
    "        option1 = p[idx]+knapsack(cap-w[idx], w, p, idx+1)\n",
    "        option2 = knapsack(cap, w, p, idx+1)\n",
    "        return max(option1, option2)\n",
    "    else:\n",
    "        return knapsack(cap-w[idx], w, p, idx+1)"
   ]
  },
  {
   "cell_type": "code",
   "execution_count": 31,
   "metadata": {},
   "outputs": [
    {
     "data": {
      "text/plain": [
       "16"
      ]
     },
     "execution_count": 31,
     "metadata": {},
     "output_type": "execute_result"
    }
   ],
   "source": [
    "knapsack(capacity, weights, profit, 0)"
   ]
  },
  {
   "cell_type": "code",
   "execution_count": null,
   "metadata": {},
   "outputs": [],
   "source": []
  }
 ],
 "metadata": {
  "kernelspec": {
   "display_name": "Python 3",
   "language": "python",
   "name": "python3"
  },
  "language_info": {
   "codemirror_mode": {
    "name": "ipython",
    "version": 3
   },
   "file_extension": ".py",
   "mimetype": "text/x-python",
   "name": "python",
   "nbconvert_exporter": "python",
   "pygments_lexer": "ipython3",
   "version": "3.11.9"
  }
 },
 "nbformat": 4,
 "nbformat_minor": 2
}
