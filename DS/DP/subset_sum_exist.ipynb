{
 "cells": [
  {
   "cell_type": "code",
   "execution_count": 16,
   "metadata": {},
   "outputs": [],
   "source": [
    "arr = [2, 3, 5]\n",
    "W = 2\n",
    "N = len(arr)"
   ]
  },
  {
   "cell_type": "code",
   "execution_count": 17,
   "metadata": {},
   "outputs": [],
   "source": [
    "def subset_sum_exist(arr, w, n):\n",
    "    results = [[False for i in range(w + 1)]\n",
    "               for i in range(n + 1)]\n",
    "\n",
    "    for i in range(len(arr)+1):\n",
    "        for j in range(w+1):\n",
    "            if j == 0:\n",
    "                results[i][j] = True\n",
    "            elif i == 0 and j>0:\n",
    "                results[i][j] = False\n",
    "            elif arr[i-1]>j:\n",
    "                results[i][j] = results[i-1][j]\n",
    "            else:\n",
    "                results[i][j] = results[i-1][j] or results[i-1][j-arr[i-1]]\n",
    "    print(results)\n",
    "    return results[-1][-1]"
   ]
  },
  {
   "cell_type": "code",
   "execution_count": 18,
   "metadata": {},
   "outputs": [
    {
     "name": "stdout",
     "output_type": "stream",
     "text": [
      "[[True, False, False], [True, False, True], [True, False, True], [True, False, True]]\n"
     ]
    },
    {
     "data": {
      "text/plain": [
       "True"
      ]
     },
     "execution_count": 18,
     "metadata": {},
     "output_type": "execute_result"
    }
   ],
   "source": [
    "subset_sum_exist(arr, W, N)"
   ]
  },
  {
   "cell_type": "code",
   "execution_count": 19,
   "metadata": {},
   "outputs": [],
   "source": [
    "def subset_sum_exist_count(arr, w, n):\n",
    "    results = [[0 for i in range(w + 1)]\n",
    "               for i in range(n + 1)]\n",
    "\n",
    "    for i in range(len(arr)+1):\n",
    "        for j in range(w+1):\n",
    "            if j == 0:\n",
    "                results[i][j] = 1\n",
    "            elif i == 0 and j>0:\n",
    "                results[i][j] = 0\n",
    "            elif arr[i-1]>j:\n",
    "                results[i][j] = results[i-1][j]\n",
    "            else:\n",
    "                results[i][j] = results[i-1][j] + results[i-1][j-arr[i-1]]\n",
    "    print(results)\n",
    "    return results[-1][-1]"
   ]
  },
  {
   "cell_type": "code",
   "execution_count": 20,
   "metadata": {},
   "outputs": [
    {
     "name": "stdout",
     "output_type": "stream",
     "text": [
      "[[1, 0, 0], [1, 0, 1], [1, 0, 1], [1, 0, 1]]\n"
     ]
    },
    {
     "data": {
      "text/plain": [
       "1"
      ]
     },
     "execution_count": 20,
     "metadata": {},
     "output_type": "execute_result"
    }
   ],
   "source": [
    "subset_sum_exist_count(arr, W, N)"
   ]
  },
  {
   "cell_type": "code",
   "execution_count": null,
   "metadata": {},
   "outputs": [],
   "source": []
  }
 ],
 "metadata": {
  "kernelspec": {
   "display_name": "Python 3",
   "language": "python",
   "name": "python3"
  },
  "language_info": {
   "codemirror_mode": {
    "name": "ipython",
    "version": 3
   },
   "file_extension": ".py",
   "mimetype": "text/x-python",
   "name": "python",
   "nbconvert_exporter": "python",
   "pygments_lexer": "ipython3",
   "version": "3.11.9"
  }
 },
 "nbformat": 4,
 "nbformat_minor": 2
}
