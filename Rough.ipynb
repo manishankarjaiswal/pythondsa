{
 "cells": [
  {
   "cell_type": "code",
   "execution_count": 4,
   "metadata": {},
   "outputs": [],
   "source": [
    "str1 = \"absent\"\n",
    "str2 = \"best\""
   ]
  },
  {
   "cell_type": "code",
   "execution_count": 5,
   "metadata": {},
   "outputs": [],
   "source": [
    "def lcs(str1, str2, idx1, idx2):\n",
    "    if idx1 == len(str1) or idx2 == len(str2):\n",
    "        return 0\n",
    "    elif str1[idx1] == str2[idx2]:\n",
    "        return 1+lcs(str1, str2, idx1+1, idx2+1)\n",
    "    else:\n",
    "        option1 = lcs(str1, str2, idx1+1, idx2)\n",
    "        option2 = lcs(str1, str2, idx1, idx2+1)\n",
    "        return max(option1, option2)\n",
    "    "
   ]
  },
  {
   "cell_type": "code",
   "execution_count": 6,
   "metadata": {},
   "outputs": [
    {
     "data": {
      "text/plain": [
       "3"
      ]
     },
     "execution_count": 6,
     "metadata": {},
     "output_type": "execute_result"
    }
   ],
   "source": [
    "lcs(str1, str2, 0, 0)"
   ]
  },
  {
   "cell_type": "code",
   "execution_count": 9,
   "metadata": {},
   "outputs": [],
   "source": [
    "def lcs_dp(str1, str2):\n",
    "    result = {}\n",
    "    def recursive(idx1, idx2):\n",
    "        key = (idx1, idx2)\n",
    "        if key in result:\n",
    "            return result[key]\n",
    "        elif idx1 == len(str1) or idx2 == len(str2):\n",
    "            result[key] = 0\n",
    "        elif str1[idx1] == str2[idx2]:\n",
    "            result[key] = 1+recursive(idx1+1, idx2+1)\n",
    "        else:\n",
    "            option1 = recursive(idx1+1, idx2)\n",
    "            option2 = recursive(idx1, idx2+1)\n",
    "            result[key] = max(option1, option2)\n",
    "            \n",
    "        return result[key]\n",
    "    \n",
    "    return recursive(0, 0)\n",
    "    "
   ]
  },
  {
   "cell_type": "code",
   "execution_count": 10,
   "metadata": {},
   "outputs": [
    {
     "data": {
      "text/plain": [
       "3"
      ]
     },
     "execution_count": 10,
     "metadata": {},
     "output_type": "execute_result"
    }
   ],
   "source": [
    "lcs_dp(str1, str2)"
   ]
  },
  {
   "cell_type": "code",
   "execution_count": null,
   "metadata": {},
   "outputs": [],
   "source": []
  }
 ],
 "metadata": {
  "kernelspec": {
   "display_name": "Python 3",
   "language": "python",
   "name": "python3"
  },
  "language_info": {
   "codemirror_mode": {
    "name": "ipython",
    "version": 3
   },
   "file_extension": ".py",
   "mimetype": "text/x-python",
   "name": "python",
   "nbconvert_exporter": "python",
   "pygments_lexer": "ipython3",
   "version": "3.11.9"
  }
 },
 "nbformat": 4,
 "nbformat_minor": 2
}
